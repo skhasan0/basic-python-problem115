{
 "cells": [
  {
   "cell_type": "markdown",
   "id": "7df60f86",
   "metadata": {},
   "source": [
    "1.swap the values of two variables without using a temporary variable."
   ]
  },
  {
   "cell_type": "code",
   "execution_count": 3,
   "id": "66231d38",
   "metadata": {
    "scrolled": true
   },
   "outputs": [
    {
     "name": "stdout",
     "output_type": "stream",
     "text": [
      "4\n",
      "5\n",
      "5 4\n"
     ]
    }
   ],
   "source": [
    "\n",
    "a=int(input())\n",
    "b=int(input())\n",
    "\n",
    "a,b = b,a\n",
    "print(a,b)"
   ]
  },
  {
   "cell_type": "markdown",
   "id": "3682f1ef",
   "metadata": {},
   "source": [
    "2.takes an integer as input and prints whether it is even or odd."
   ]
  },
  {
   "cell_type": "code",
   "execution_count": 6,
   "id": "212bedc6",
   "metadata": {},
   "outputs": [
    {
     "name": "stdout",
     "output_type": "stream",
     "text": [
      "7\n",
      "number is odd\n"
     ]
    }
   ],
   "source": [
    "a=int(input())\n",
    "if(a%2== 0):\n",
    "    print(\"number is even\")\n",
    "else:\n",
    "        print(\"number is odd\")"
   ]
  },
  {
   "cell_type": "markdown",
   "id": "078c39ac",
   "metadata": {},
   "source": [
    "3.Write a Python function to reverse a given string and return the reversed string."
   ]
  },
  {
   "cell_type": "code",
   "execution_count": 7,
   "id": "25420822",
   "metadata": {},
   "outputs": [
    {
     "name": "stdout",
     "output_type": "stream",
     "text": [
      "sakib\n",
      "reversed string is  bikas\n"
     ]
    }
   ],
   "source": [
    "def reverse(string):\n",
    "    rev_string =\"\"\n",
    "    for i in string:\n",
    "        rev_string=i+rev_string\n",
    "    return rev_string\n",
    "    \n",
    "word=input()\n",
    "reversed_string=reverse(word)\n",
    "print(\"reversed string is \",reversed_string)"
   ]
  },
  {
   "cell_type": "markdown",
   "id": "059cd3d8",
   "metadata": {},
   "source": [
    "4.Given a list of integers, write a Python program to convert each element of the list to a string."
   ]
  },
  {
   "cell_type": "code",
   "execution_count": 27,
   "id": "52f727d1",
   "metadata": {},
   "outputs": [
    {
     "name": "stdout",
     "output_type": "stream",
     "text": [
      "['1', '2', '3', '4']\n"
     ]
    }
   ],
   "source": [
    "def convert_str(int_val):\n",
    "    str_num=[]\n",
    "    for i in int_val:\n",
    "        str_num.append(str(i))\n",
    "    return str_num\n",
    "\n",
    "word=[1,2,3,4]\n",
    "result=convert_str(word)\n",
    "print(result)\n"
   ]
  },
  {
   "cell_type": "markdown",
   "id": "f497c215",
   "metadata": {},
   "source": [
    "5. Write a Python program that converts a temperature in Celsius to Fahrenheit.\n",
    "Take the Celsius temperature as input from the user."
   ]
  },
  {
   "cell_type": "code",
   "execution_count": 11,
   "id": "7d14fd09",
   "metadata": {},
   "outputs": [
    {
     "name": "stdout",
     "output_type": "stream",
     "text": [
      "enter celcius : 30\n",
      "Fahrenheit is :  86.0\n"
     ]
    }
   ],
   "source": [
    "cel=float(input(\"enter celcius : \"))\n",
    "F=(9/5)*cel+32\n",
    "\n",
    "print(\"Fahrenheit is : \",F)"
   ]
  },
  {
   "cell_type": "markdown",
   "id": "a5b23f8a",
   "metadata": {},
   "source": [
    "6. Write a Python function that takes a variable as input and returns the data type of the variable as\n",
    "a string (e.g., “int”, “float”, “str”, “list”, etc.)."
   ]
  },
  {
   "cell_type": "code",
   "execution_count": 17,
   "id": "22399ce5",
   "metadata": {},
   "outputs": [
    {
     "name": "stdout",
     "output_type": "stream",
     "text": [
      "2\n",
      "<class 'int'>\n",
      "sakib\n",
      "<class 'str'>\n",
      "56.7\n",
      "<class 'float'>\n",
      "<class 'list'>\n"
     ]
    }
   ],
   "source": [
    "def d_type(x):\n",
    "    val=type(x)\n",
    "    return val\n",
    "a=int(input())\n",
    "print(d_type(a))\n",
    "a=(input())\n",
    "print(d_type(a))\n",
    "a=float(input())\n",
    "print(d_type(a))\n",
    "b=[2,'sakib']\n",
    "print(d_type(b))"
   ]
  },
  {
   "cell_type": "markdown",
   "id": "cfe7d4e4",
   "metadata": {},
   "source": [
    "7.Write a Python function to check if a given string is a palindrome or not."
   ]
  },
  {
   "cell_type": "code",
   "execution_count": 19,
   "id": "46693be9",
   "metadata": {},
   "outputs": [
    {
     "name": "stdout",
     "output_type": "stream",
     "text": [
      "enter string: aba\n",
      "yes,it is palindrome\n"
     ]
    }
   ],
   "source": [
    "def pal(string):\n",
    "    rev_str=\"\"\n",
    "    for i in string:\n",
    "        rev_str=i+rev_str\n",
    "    if(rev_str==string):\n",
    "        print(\"yes,it is palindrome\")\n",
    "    else:\n",
    "        print(\"it is not palindrome\")\n",
    "\n",
    "\n",
    "word=input(\"enter string: \")\n",
    "pal(word)\n",
    "        "
   ]
  },
  {
   "cell_type": "markdown",
   "id": "3a4d06ad",
   "metadata": {},
   "source": [
    "8.Write a Python function to reverse a given string using slicing."
   ]
  },
  {
   "cell_type": "code",
   "execution_count": 21,
   "id": "234d0aeb",
   "metadata": {},
   "outputs": [
    {
     "name": "stdout",
     "output_type": "stream",
     "text": [
      "enter string: sakib\n",
      "bikas\n"
     ]
    }
   ],
   "source": [
    "def rev(string):\n",
    "    print(string[len(string)-1::-1])\n",
    "\n",
    "word=input(\"enter string: \")\n",
    "rev(word)"
   ]
  },
  {
   "cell_type": "markdown",
   "id": "e2e46b12",
   "metadata": {},
   "source": [
    "9> Write a Python program that takes two strings as input and concatenates them into a single string without using the `+` operator."
   ]
  },
  {
   "cell_type": "code",
   "execution_count": 22,
   "id": "df865bd5",
   "metadata": {},
   "outputs": [
    {
     "name": "stdout",
     "output_type": "stream",
     "text": [
      "sakib\n",
      "hasan\n",
      "concatenation of two string is :  sakib hasan\n"
     ]
    }
   ],
   "source": [
    "a=input()\n",
    "b=input()\n",
    "\n",
    "list=[a,b]\n",
    "con_output=\" \".join(list)\n",
    "print(\"concatenation of two string is : \",con_output)"
   ]
  },
  {
   "cell_type": "markdown",
   "id": "dd1e2ac1",
   "metadata": {},
   "source": [
    "10.Typecasting Challenge: Given three variables: `a = ‘100’`, `b = 25`, and `c = ‘10.5’`, write a Python program to perform the following operations and print the results:\n",
    "– Convert `a` to an integer and add it to `b`.\n",
    "– Convert `c` to a float and subtract it from the result of the first operation.\n",
    "– Convert the final result to a string and concatenate it with the string ” is the answer.”"
   ]
  },
  {
   "cell_type": "code",
   "execution_count": 25,
   "id": "db3f3738",
   "metadata": {},
   "outputs": [
    {
     "name": "stdout",
     "output_type": "stream",
     "text": [
      "114.5 is the answer\n"
     ]
    }
   ],
   "source": [
    "a='100'\n",
    "b=25\n",
    "c='10.5'\n",
    "x=int(a)+b\n",
    "y=x-float(c)\n",
    "result=str(y)+\" is the answer\"\n",
    "print(result)"
   ]
  },
  {
   "cell_type": "markdown",
   "id": "e7fb8c04",
   "metadata": {},
   "source": [
    "# Python Conditional Statements:\n",
    "11.Write a Python program that takes a number as input and prints whether it is positive, negative, or zero."
   ]
  },
  {
   "cell_type": "code",
   "execution_count": 2,
   "id": "cf9df87e",
   "metadata": {},
   "outputs": [
    {
     "name": "stdout",
     "output_type": "stream",
     "text": [
      "enter a number : -3\n",
      "number is negative\n"
     ]
    }
   ],
   "source": [
    "a=int(input(\"enter a number : \"))\n",
    "if a==0 :\n",
    "    print(\"number is zero\")\n",
    "elif a>0 :\n",
    "    print(\"number is positive\")\n",
    "else :\n",
    "    print(\"number is negative\")"
   ]
  },
  {
   "cell_type": "markdown",
   "id": "7d1e7237",
   "metadata": {},
   "source": [
    "12. Largest of Three Numbers: Write a Python program that takes three numbers as input and prints the largest among them."
   ]
  },
  {
   "cell_type": "code",
   "execution_count": 5,
   "id": "13a2b9e8",
   "metadata": {},
   "outputs": [
    {
     "name": "stdout",
     "output_type": "stream",
     "text": [
      "Enter Three Number : \n",
      "4\n",
      "7\n",
      "1\n",
      "Largest number is : \n",
      "7\n"
     ]
    }
   ],
   "source": [
    "print(\"Enter Three Number : \")\n",
    "a=int(input())\n",
    "b=int(input())\n",
    "c=int(input())\n",
    "print(\"Largest number is : \")\n",
    "\n",
    "if (a>b) & (a>c) :\n",
    "    print(a)\n",
    "elif (b>a) & (b>c) :\n",
    "    print(b)\n",
    "else :\n",
    "    print(c)\n",
    "    "
   ]
  },
  {
   "cell_type": "markdown",
   "id": "de9c3d54",
   "metadata": {},
   "source": [
    "13. Leap Year Checker: Write a Python program that takes a year as input and determines if it is a leap year or not."
   ]
  },
  {
   "cell_type": "code",
   "execution_count": 16,
   "id": "28f4ddcc",
   "metadata": {},
   "outputs": [
    {
     "name": "stdout",
     "output_type": "stream",
     "text": [
      "enter a year : 2000\n",
      "2000 yes,It is leap year\n"
     ]
    }
   ],
   "source": [
    "year=int(input(\"enter a year : \"))\n",
    "\n",
    "if (year % 400 == 0) and (year % 100 == 0 ) :\n",
    "    print(year,\"yes,It is leap year\")\n",
    "elif (year % 4 == 0) and (year % 100 != 0):\n",
    "    print(year,\"not leap year \")\n",
    "else :\n",
    "    print(\"not leap year\")\n",
    "    "
   ]
  },
  {
   "cell_type": "markdown",
   "id": "de52e4fe",
   "metadata": {},
   "source": [
    "14. Grades Classification: Write a Python program that takes a student’s percentage as input and prints their corresponding grade according to the following criteria:\n",
    "– 90% or above: A+\n",
    "– 80-89%: A\n",
    "– 70-79%: B\n",
    "– 60-69%: C\n",
    "– Below 60%: Fail"
   ]
  },
  {
   "cell_type": "code",
   "execution_count": 19,
   "id": "e929a488",
   "metadata": {},
   "outputs": [
    {
     "name": "stdout",
     "output_type": "stream",
     "text": [
      "enter percentage : 89\n",
      "A\n"
     ]
    }
   ],
   "source": [
    "a=int(input(\"enter percentage : \"))\n",
    "if a>=90:\n",
    "    print(\"A+\")\n",
    "elif (a>=80) and (a<90):\n",
    "    print(\"A\")\n",
    "elif (a>=70) and (a<80):\n",
    "    print(\"B\")\n",
    "elif (a>=60) and (a<70):\n",
    "    print(\"C\")\n",
    "elif a<60:\n",
    "    print(\"Fail\")"
   ]
  },
  {
   "cell_type": "markdown",
   "id": "d15a59a2",
   "metadata": {},
   "source": [
    "15. Vowel or Consonant: Write a Python program that takes a single character as input and determines whether it is a vowel or a consonant."
   ]
  },
  {
   "cell_type": "code",
   "execution_count": 23,
   "id": "c4bce3d0",
   "metadata": {},
   "outputs": [
    {
     "name": "stdout",
     "output_type": "stream",
     "text": [
      "enter a character : U\n",
      "Vowel\n"
     ]
    }
   ],
   "source": [
    "char= input(\"enter a character : \")\n",
    "if char == 'a' or char == 'A' or char == 'e' or char == 'E' or char == 'i' or char == 'I' or char == 'o' or char == 'O' or char == 'u' or char == 'U' :\n",
    "    print(\"Vowel\")\n",
    "else :\n",
    "    print(\"consonant\")"
   ]
  },
  {
   "cell_type": "markdown",
   "id": "ddddc06c",
   "metadata": {},
   "source": [
    "16. Time Classification: Write a Python program that takes the time in hours (24-hour format) as input and prints “Good Morning”, “Good Afternoon”, \n",
    "    “Good Evening”, or “Good Night” based on the time."
   ]
  },
  {
   "cell_type": "code",
   "execution_count": 24,
   "id": "106432e3",
   "metadata": {},
   "outputs": [
    {
     "name": "stdout",
     "output_type": "stream",
     "text": [
      "enter time in hours : 12\n",
      "Good Afternoon \n"
     ]
    }
   ],
   "source": [
    "a=int(input(\"enter time in hours : \"))\n",
    "if a>=0 and a<6 :\n",
    "    print(\"Good Night \")\n",
    "elif a>=6 and a<12 :\n",
    "    print(\"Good Morning \")\n",
    "elif a>=12 and a<18 :\n",
    "    print(\"Good Afternoon \")\n",
    "elif a>=18 and a<24 :\n",
    "    print(\"Good evening \")\n",
    "else:\n",
    "    print(\"invalid\")"
   ]
  },
  {
   "cell_type": "markdown",
   "id": "e9aca803",
   "metadata": {},
   "source": [
    "17. Triangle Type Checker: Write a Python program that takes three sides of a triangle as input and determines whether it forms an equilateral, isosceles, or scalene triangle."
   ]
  },
  {
   "cell_type": "code",
   "execution_count": 28,
   "id": "260eec83",
   "metadata": {},
   "outputs": [
    {
     "name": "stdout",
     "output_type": "stream",
     "text": [
      "Enter three sides of a triangle : \n",
      "3\n",
      "4\n",
      "5\n",
      "scalene\n"
     ]
    }
   ],
   "source": [
    "print(\"Enter three sides of a triangle : \")\n",
    "a=int(input())\n",
    "b=int(input())\n",
    "c=int(input())\n",
    "if a==b==c :\n",
    "    print(\"equilateral\")\n",
    "elif a==b or b==c or c==a :\n",
    "    print(\"isosceles\")\n",
    "else:\n",
    "    print(\"scalene\")\n"
   ]
  },
  {
   "cell_type": "markdown",
   "id": "cc447313",
   "metadata": {},
   "source": [
    "18. Quadratic Equation Solver: Write a Python program that takes the coefficients (a, b, c) of a quadratic equation as input and calculates and prints the real roots (if they exist) or a message indicating the complex roots."
   ]
  },
  {
   "cell_type": "code",
   "execution_count": 13,
   "id": "be81e516",
   "metadata": {},
   "outputs": [
    {
     "name": "stdout",
     "output_type": "stream",
     "text": [
      "Enter three coefficient : \n",
      "7\n",
      "5\n",
      "2\n",
      "complex roots : \n",
      "-0.35714285714285715  +i 2.6457513110645907\n",
      "-0.35714285714285715  -i 2.6457513110645907\n"
     ]
    }
   ],
   "source": [
    "from math import * \n",
    "\n",
    "def findroot(a,b,c):\n",
    "    \n",
    "    d=(b*b)-(4*a*c)\n",
    "    val_d=math.sqrt(abs(x))\n",
    "    \n",
    "    if d > 0:\n",
    "        print(\"real and different roots : \")\n",
    "        print((-b+val_d)/(2*a))\n",
    "        print((-b-val_d)/(2*a))\n",
    "        \n",
    "    elif d == 0 :\n",
    "        print(\"real and same roots : \")\n",
    "        print((-b)/(2*a))\n",
    "        \n",
    "    else:\n",
    "        print(\"complex roots : \")\n",
    "        print(-b/(2*a),\" +i\",val_d)\n",
    "        print(-b/(2*a),\" -i\",val_d)\n",
    "        \n",
    "print(\"Enter three coefficient : \")\n",
    "a=int(input())\n",
    "b=int(input())\n",
    "c=int(input())\n",
    "if a == 0:  \n",
    "    print(\"Input correct quadratic equation\")   \n",
    "else:  \n",
    "    findroot(a,b,c)\n",
    "    \n",
    "    "
   ]
  },
  {
   "cell_type": "markdown",
   "id": "6ce9dcfe",
   "metadata": {},
   "source": [
    "19. Number Ranges: Write a Python program that takes an integer as input and prints whether the number falls within the ranges: 0-50, 51-100, 101-150, or above 150."
   ]
  },
  {
   "cell_type": "code",
   "execution_count": 14,
   "id": "4bb77a55",
   "metadata": {},
   "outputs": [
    {
     "name": "stdout",
     "output_type": "stream",
     "text": [
      "enter an integar : 5\n",
      "the number falls within range 0-50 \n"
     ]
    }
   ],
   "source": [
    "a=int(input(\"enter an integar : \"))\n",
    "if 0<=a<=50 :\n",
    "    print(\"the number falls within range 0-50 \")\n",
    "elif 51<=a<=100 :\n",
    "    print(\"the number falls within range 51-100 \")\n",
    "elif 101<=a<=150 :\n",
    "    print(\"the number falls within range 101-150 \")\n",
    "else:\n",
    "    print(\"the number is above 150\")\n",
    "    \n",
    "    "
   ]
  },
  {
   "cell_type": "markdown",
   "id": "1dc380a1",
   "metadata": {},
   "source": [
    "# For & While Loops:"
   ]
  },
  {
   "cell_type": "markdown",
   "id": "81be521d",
   "metadata": {},
   "source": [
    "20. Sum of N Numbers: Write a Python program using a for loop to calculate the sum of the first N natural numbers, where N is taken as input from the user."
   ]
  },
  {
   "cell_type": "code",
   "execution_count": 18,
   "id": "19ab3284",
   "metadata": {},
   "outputs": [
    {
     "name": "stdout",
     "output_type": "stream",
     "text": [
      "enter a number : 5\n",
      "15\n"
     ]
    }
   ],
   "source": [
    "n=int(input(\"enter a number : \" ))\n",
    "sum=0\n",
    "for i in range(1,n+1):\n",
    "    \n",
    "    sum=sum+i\n",
    "\n",
    "print(sum)"
   ]
  },
  {
   "cell_type": "markdown",
   "id": "11d8ccab",
   "metadata": {},
   "source": [
    "21. Factorial Calculator: Write a Python program using a while loop to calculate the factorial of a given number N."
   ]
  },
  {
   "cell_type": "code",
   "execution_count": 1,
   "id": "eb86934e",
   "metadata": {},
   "outputs": [
    {
     "name": "stdout",
     "output_type": "stream",
     "text": [
      "enter a number : 5\n",
      "factorial is  120\n"
     ]
    }
   ],
   "source": [
    "a=int(input(\"enter a number : \"))\n",
    "fact=1\n",
    "i=1\n",
    "\n",
    "while i<=a :\n",
    "    fact=fact*i\n",
    "    i=i+1\n",
    "    \n",
    "print(\"factorial is \",fact)"
   ]
  },
  {
   "cell_type": "markdown",
   "id": "2226f2ac",
   "metadata": {},
   "source": [
    "22. Table of a Number: Write a Python program using a for loop to print the multiplication table of a given number N."
   ]
  },
  {
   "cell_type": "code",
   "execution_count": 5,
   "id": "fed54728",
   "metadata": {},
   "outputs": [
    {
     "name": "stdout",
     "output_type": "stream",
     "text": [
      "enter a number : 10\n",
      "10 * 1 =  10\n",
      "10 * 2 =  20\n",
      "10 * 3 =  30\n",
      "10 * 4 =  40\n",
      "10 * 5 =  50\n",
      "10 * 6 =  60\n",
      "10 * 7 =  70\n",
      "10 * 8 =  80\n",
      "10 * 9 =  90\n",
      "10 * 10 =  100\n"
     ]
    }
   ],
   "source": [
    "n=int(input(\"enter a number : \"))\n",
    "for i in range(1,n+1):\n",
    " print(n, \"*\",i,\"= \",n*i)"
   ]
  },
  {
   "cell_type": "markdown",
   "id": "ccdd3229",
   "metadata": {},
   "source": [
    "23. Count Digits in a Number: Write a Python program using a while loop to count the number of digits in a given integer N."
   ]
  },
  {
   "cell_type": "code",
   "execution_count": 1,
   "id": "9cd4c530",
   "metadata": {},
   "outputs": [
    {
     "name": "stdout",
     "output_type": "stream",
     "text": [
      "enter a number : 12\n",
      "2\n"
     ]
    }
   ],
   "source": [
    "a=int(input(\"enter a number : \"))\n",
    "count=0\n",
    "while a!=0 :\n",
    "    a=a//10 \n",
    "    count=count+1\n",
    "    \n",
    "print(count)"
   ]
  },
  {
   "cell_type": "markdown",
   "id": "a42d97d4",
   "metadata": {},
   "source": [
    "24. Fibonacci Sequence: Write a Python program using a for loop to generate the Fibonacci sequence up to a given limit N."
   ]
  },
  {
   "cell_type": "code",
   "execution_count": 3,
   "id": "1ae07c4b",
   "metadata": {},
   "outputs": [
    {
     "name": "stdout",
     "output_type": "stream",
     "text": [
      "enter a number 5\n",
      "0\n",
      "1\n",
      "1\n",
      "2\n",
      "3\n",
      "5\n"
     ]
    }
   ],
   "source": [
    "n=int(input(\"enter a number \"))\n",
    "a=0\n",
    "b=1\n",
    "print(a)\n",
    "print(b)\n",
    "for i in range(2,n+1):\n",
    "    c=a+b\n",
    "    \n",
    "    print(c)\n",
    "    a=b\n",
    "    b=c\n",
    "    "
   ]
  },
  {
   "cell_type": "markdown",
   "id": "8e17c277",
   "metadata": {},
   "source": [
    "25. Sum of Even Numbers: Write a Python program using a while loop to calculate the sum of all even numbers between 1 and N, where N is taken as input from the user."
   ]
  },
  {
   "cell_type": "code",
   "execution_count": 6,
   "id": "c653f930",
   "metadata": {},
   "outputs": [
    {
     "name": "stdout",
     "output_type": "stream",
     "text": [
      "enter a number 100\n",
      "sum is  2550\n"
     ]
    }
   ],
   "source": [
    "n=int(input(\"enter a number \"))\n",
    "sum=0\n",
    "i=1\n",
    "while i<=n :\n",
    "    if i%2==0:\n",
    "        sum+=i\n",
    "    \n",
    "    i+=1\n",
    "    \n",
    "print(\"sum is \",sum)"
   ]
  },
  {
   "cell_type": "markdown",
   "id": "da03e1fe",
   "metadata": {},
   "source": [
    "26. Print Patterns: Write a Python program using nested for loops to print various patterns, such as a right-angled triangle, an inverted right-angled triangle, and so on."
   ]
  },
  {
   "cell_type": "code",
   "execution_count": 17,
   "id": "386beb11",
   "metadata": {},
   "outputs": [
    {
     "name": "stdout",
     "output_type": "stream",
     "text": [
      "enter a number 5\n",
      "* \n",
      "* * \n",
      "* * * \n",
      "* * * * \n",
      "* * * * * \n",
      "\n",
      "* * * * * \n",
      "* * * * \n",
      "* * * \n",
      "* * \n",
      "* \n"
     ]
    }
   ],
   "source": [
    "n=int(input(\"enter a number \"))\n",
    "\n",
    "for i in range(1,n+1):\n",
    "    for j in range(1,i+1):\n",
    "        print(\"*\",end=\" \")\n",
    "    print()\n",
    "\n",
    "print()\n",
    "    \n",
    "#inverted right angle\n",
    "\n",
    "for i in range(n,0,-1):\n",
    "    for j in range(i):\n",
    "        print(\"*\",end=\" \")\n",
    "    print()\n"
   ]
  },
  {
   "cell_type": "markdown",
   "id": "3d816a6c",
   "metadata": {},
   "source": [
    "27. Prime Number Checker: Write a Python program using a while loop to check if a given number N is prime or not."
   ]
  },
  {
   "cell_type": "code",
   "execution_count": 9,
   "id": "636362cf",
   "metadata": {},
   "outputs": [
    {
     "name": "stdout",
     "output_type": "stream",
     "text": [
      "enter a number 5\n",
      "number is prime\n"
     ]
    }
   ],
   "source": [
    "n=int(input(\"enter a number \"))\n",
    "count=0\n",
    "i=2\n",
    "while i<n:\n",
    "        if(n%2==0):\n",
    "            count+=1\n",
    "            break\n",
    "        i+=1\n",
    "        \n",
    "if count>=1:\n",
    "    print(\"number is not prime \")\n",
    "    \n",
    "else:\n",
    "     print(\"number is prime\")"
   ]
  },
  {
   "cell_type": "markdown",
   "id": "7e1a9709",
   "metadata": {},
   "source": [
    "28. List Manipulation: Given a list of integers, write a Python program using a for loop to find the sum, average, maximum, and minimum values in the list."
   ]
  },
  {
   "cell_type": "code",
   "execution_count": 15,
   "id": "1c61e3e6",
   "metadata": {},
   "outputs": [
    {
     "name": "stdout",
     "output_type": "stream",
     "text": [
      "enter the size : 3\n",
      "enter elements : 3\n",
      "enter elements : 2\n",
      "enter elements : 1\n",
      "sum is :  6\n",
      "avg is :  2.0\n",
      "max is :  3\n",
      "min is :  1\n"
     ]
    }
   ],
   "source": [
    "a=[]\n",
    "size=int(input(\"enter the size : \"))\n",
    "for i in range(size):\n",
    "    val=int(input(\"enter elements : \"))\n",
    "    a.append(val)\n",
    "sum=0\n",
    "for i in range(size):\n",
    "    sum=sum+a[i]\n",
    "avg=sum/size\n",
    "max=a[0]\n",
    "for i in range(1,size):\n",
    "    if max<a[i]:\n",
    "        max=a[i]\n",
    "min=a[0]\n",
    "for i in range(1,size):\n",
    "    if min>a[i]:\n",
    "        min=a[i]\n",
    "\n",
    "print(\"sum is : \",sum)\n",
    "print(\"avg is : \",avg)\n",
    "print(\"max is : \",max)\n",
    "print(\"min is : \",min)"
   ]
  },
  {
   "cell_type": "markdown",
   "id": "2583a663",
   "metadata": {},
   "source": [
    "29. Reverse String: Write a Python program using a while loop to reverse a given string."
   ]
  },
  {
   "cell_type": "code",
   "execution_count": 35,
   "id": "65199b54",
   "metadata": {},
   "outputs": [
    {
     "name": "stdout",
     "output_type": "stream",
     "text": [
      "enter a string : hasan\n",
      "nasah\n"
     ]
    }
   ],
   "source": [
    "string=str(input(\"enter a string : \"))\n",
    "i=len(string)-1\n",
    "j=0\n",
    "x=\"\"\n",
    "str(x)\n",
    "while i>=0:\n",
    "    x=x+string[i]\n",
    "    i-=1\n",
    "\n",
    "    \n",
    "print(x)"
   ]
  },
  {
   "cell_type": "markdown",
   "id": "96005ed6",
   "metadata": {},
   "source": [
    "30. Multiplication Table: Write a Python program using nested loops to print the multiplication table from 1 to 10."
   ]
  },
  {
   "cell_type": "code",
   "execution_count": 1,
   "id": "0c34216a",
   "metadata": {},
   "outputs": [
    {
     "name": "stdout",
     "output_type": "stream",
     "text": [
      "1  *  1  =  1\n",
      "1  *  2  =  2\n",
      "1  *  3  =  3\n",
      "1  *  4  =  4\n",
      "1  *  5  =  5\n",
      "1  *  6  =  6\n",
      "1  *  7  =  7\n",
      "1  *  8  =  8\n",
      "1  *  9  =  9\n",
      "1  *  10  =  10\n",
      "\n",
      "2  *  1  =  2\n",
      "2  *  2  =  4\n",
      "2  *  3  =  6\n",
      "2  *  4  =  8\n",
      "2  *  5  =  10\n",
      "2  *  6  =  12\n",
      "2  *  7  =  14\n",
      "2  *  8  =  16\n",
      "2  *  9  =  18\n",
      "2  *  10  =  20\n",
      "\n",
      "3  *  1  =  3\n",
      "3  *  2  =  6\n",
      "3  *  3  =  9\n",
      "3  *  4  =  12\n",
      "3  *  5  =  15\n",
      "3  *  6  =  18\n",
      "3  *  7  =  21\n",
      "3  *  8  =  24\n",
      "3  *  9  =  27\n",
      "3  *  10  =  30\n",
      "\n",
      "4  *  1  =  4\n",
      "4  *  2  =  8\n",
      "4  *  3  =  12\n",
      "4  *  4  =  16\n",
      "4  *  5  =  20\n",
      "4  *  6  =  24\n",
      "4  *  7  =  28\n",
      "4  *  8  =  32\n",
      "4  *  9  =  36\n",
      "4  *  10  =  40\n",
      "\n",
      "5  *  1  =  5\n",
      "5  *  2  =  10\n",
      "5  *  3  =  15\n",
      "5  *  4  =  20\n",
      "5  *  5  =  25\n",
      "5  *  6  =  30\n",
      "5  *  7  =  35\n",
      "5  *  8  =  40\n",
      "5  *  9  =  45\n",
      "5  *  10  =  50\n",
      "\n",
      "6  *  1  =  6\n",
      "6  *  2  =  12\n",
      "6  *  3  =  18\n",
      "6  *  4  =  24\n",
      "6  *  5  =  30\n",
      "6  *  6  =  36\n",
      "6  *  7  =  42\n",
      "6  *  8  =  48\n",
      "6  *  9  =  54\n",
      "6  *  10  =  60\n",
      "\n",
      "7  *  1  =  7\n",
      "7  *  2  =  14\n",
      "7  *  3  =  21\n",
      "7  *  4  =  28\n",
      "7  *  5  =  35\n",
      "7  *  6  =  42\n",
      "7  *  7  =  49\n",
      "7  *  8  =  56\n",
      "7  *  9  =  63\n",
      "7  *  10  =  70\n",
      "\n",
      "8  *  1  =  8\n",
      "8  *  2  =  16\n",
      "8  *  3  =  24\n",
      "8  *  4  =  32\n",
      "8  *  5  =  40\n",
      "8  *  6  =  48\n",
      "8  *  7  =  56\n",
      "8  *  8  =  64\n",
      "8  *  9  =  72\n",
      "8  *  10  =  80\n",
      "\n",
      "9  *  1  =  9\n",
      "9  *  2  =  18\n",
      "9  *  3  =  27\n",
      "9  *  4  =  36\n",
      "9  *  5  =  45\n",
      "9  *  6  =  54\n",
      "9  *  7  =  63\n",
      "9  *  8  =  72\n",
      "9  *  9  =  81\n",
      "9  *  10  =  90\n",
      "\n",
      "10  *  1  =  10\n",
      "10  *  2  =  20\n",
      "10  *  3  =  30\n",
      "10  *  4  =  40\n",
      "10  *  5  =  50\n",
      "10  *  6  =  60\n",
      "10  *  7  =  70\n",
      "10  *  8  =  80\n",
      "10  *  9  =  90\n",
      "10  *  10  =  100\n",
      "\n"
     ]
    }
   ],
   "source": [
    "for i in range(1,11):\n",
    "    for j in range(1,11):\n",
    "        print(i,\" * \",j,\" = \",i*j)\n",
    "        \n",
    "    print()"
   ]
  },
  {
   "cell_type": "markdown",
   "id": "0e3b538e",
   "metadata": {},
   "source": [
    "31. Print Patterns: Write a Python program using nested loops to print the following pattern:\n",
    "*\n",
    "**\n",
    "***\n",
    "****\n",
    "*****"
   ]
  },
  {
   "cell_type": "code",
   "execution_count": 8,
   "id": "ed5892f1",
   "metadata": {},
   "outputs": [
    {
     "name": "stdout",
     "output_type": "stream",
     "text": [
      "* \n",
      "* * \n",
      "* * * \n",
      "* * * * \n",
      "* * * * * \n"
     ]
    }
   ],
   "source": [
    "#*\n",
    "#**\n",
    "#***\n",
    "#****\n",
    "#*****\n",
    "\n",
    "for i in range(1,6):\n",
    "    for j in range(i):\n",
    "        print(\"*\",end=\" \")\n",
    "    print()"
   ]
  },
  {
   "cell_type": "markdown",
   "id": "1cb24dab",
   "metadata": {},
   "source": [
    "32. Matrix Multiplication: Write a Python program using nested loops to multiply two matrices."
   ]
  },
  {
   "cell_type": "code",
   "execution_count": 12,
   "id": "21174b33",
   "metadata": {},
   "outputs": [
    {
     "name": "stdout",
     "output_type": "stream",
     "text": [
      "enter row1 : 3\n",
      "enter col1 : 3\n",
      "enter value : 2\n",
      "enter value : 3\n",
      "enter value : 4\n",
      "enter value : 5\n",
      "enter value : 6\n",
      "enter value : 2\n",
      "enter value : 5\n",
      "enter value : 3\n",
      "enter value : 6\n",
      "enter row2 : 3\n",
      "enter col2 : 3\n",
      "enter value : 56\n",
      "enter value : 4\n",
      "enter value : 6\n",
      "enter value : 3\n",
      "enter value : 89\n",
      "enter value : 7\n",
      "enter value : 8\n",
      "enter value : 6\n",
      "enter value : 5\n",
      "[2, 3, 4]\n",
      "[5, 6, 2]\n",
      "[5, 3, 6]\n",
      "\n",
      "[56, 4, 6]\n",
      "[3, 89, 7]\n",
      "[8, 6, 5]\n",
      "\n",
      "[153, 299, 53]\n",
      "[314, 566, 82]\n",
      "[337, 323, 81]\n"
     ]
    }
   ],
   "source": [
    "a=[]\n",
    "\n",
    "r1=int(input(\"enter row1 : \"))\n",
    "c1=int(input(\"enter col1 : \"))\n",
    "for i in range(r1):\n",
    "    row=[]\n",
    "    for j in range(c1):\n",
    "        val=int(input(\"enter value : \"))\n",
    "        row.append(val)\n",
    "    a.append(row)\n",
    "\n",
    "\n",
    "\n",
    "\n",
    "b=[]\n",
    "r2=int(input(\"enter row2 : \"))\n",
    "c2=int(input(\"enter col2 : \"))\n",
    "for i in range(r2):\n",
    "    row1=[]\n",
    "    for j in range(c2):\n",
    "        val1=int(input(\"enter value : \"))\n",
    "        row1.append(val1)\n",
    "    b.append(row1)\n",
    "    \n",
    "    \n",
    "    \n",
    "result=[[0 for _ in range(c2)] for _ in range(r1)] #for empty matrix ,coping 0\n",
    "\n",
    "\n",
    "    \n",
    "    \n",
    "for i in a:\n",
    "    print(i)\n",
    "    \n",
    "print()\n",
    "for j in b:\n",
    "    print(j)\n",
    "\n",
    "    \n",
    "for i in range(r1):\n",
    "    for j in range (c2):\n",
    "        for k in range(c1):\n",
    "            result[i][j]+=a[i][k]*b[k][j]\n",
    "        \n",
    "print()     \n",
    "        \n",
    "for ip in result:\n",
    "    print(ip)\n",
    "        \n",
    "        \n",
    "\n",
    "              "
   ]
  },
  {
   "cell_type": "markdown",
   "id": "d808f726",
   "metadata": {},
   "source": [
    "33.Write a Python program using nested loops to print a number pyramid like the following:"
   ]
  },
  {
   "cell_type": "code",
   "execution_count": 17,
   "id": "e406c156",
   "metadata": {},
   "outputs": [
    {
     "name": "stdout",
     "output_type": "stream",
     "text": [
      "1\n",
      "22\n",
      "333\n",
      "4444\n",
      "55555\n"
     ]
    }
   ],
   "source": [
    "#1\n",
    "#22\n",
    "#333\n",
    "#4444\n",
    "#55555\n",
    "\n",
    "\n",
    "for i in range(1,6):\n",
    "    for j in range(i):\n",
    "        print(i,end=\"\")\n",
    "    print()"
   ]
  },
  {
   "cell_type": "markdown",
   "id": "cd465ec3",
   "metadata": {},
   "source": [
    "# List Problems:"
   ]
  },
  {
   "cell_type": "markdown",
   "id": "4e418abc",
   "metadata": {},
   "source": [
    "34. List Sum: Write a Python program to find the sum of all elements in a given list of integers."
   ]
  },
  {
   "cell_type": "code",
   "execution_count": 2,
   "id": "288634da",
   "metadata": {},
   "outputs": [
    {
     "name": "stdout",
     "output_type": "stream",
     "text": [
      "enter size : 5\n",
      "enter value : 1\n",
      "enter value : 2\n",
      "enter value : 3\n",
      "enter value : 4\n",
      "enter value : 5\n",
      "sum is :  15\n"
     ]
    }
   ],
   "source": [
    "a=[]\n",
    "size=int(input(\"enter size : \"))\n",
    "for i in range(size):\n",
    "    val=int(input(\"enter value : \"))\n",
    "    a.append(val)\n",
    "sum=0  \n",
    "for i in range(size):\n",
    "    sum=sum+a[i]\n",
    "    \n",
    "print(\"sum is : \",sum)"
   ]
  },
  {
   "cell_type": "markdown",
   "id": "9dea0bae",
   "metadata": {},
   "source": [
    "35. List Average: Write a Python program to calculate the average of all elements in a given list of integers."
   ]
  },
  {
   "cell_type": "code",
   "execution_count": 1,
   "id": "f002af4c",
   "metadata": {},
   "outputs": [
    {
     "name": "stdout",
     "output_type": "stream",
     "text": [
      "enter list size : 5\n",
      "value of list : 2\n",
      "value of list : 3\n",
      "value of list : 4\n",
      "value of list : 5\n",
      "value of list : 6\n",
      "avg of list is :  4.0\n"
     ]
    }
   ],
   "source": [
    "li=[]\n",
    "size=int(input('enter list size : ' ))\n",
    "for i in range(size):\n",
    "    val=int(input('value of list : '))\n",
    "    li.append(val)\n",
    "sum=0\n",
    "for i in range(size):\n",
    "    sum=sum+li[i]\n",
    "avg=sum/size\n",
    "print('avg of list is : ',avg)"
   ]
  },
  {
   "cell_type": "markdown",
   "id": "2f3422a9",
   "metadata": {},
   "source": [
    "36. List Max and Min: Write a Python program to find the maximum and minimum values in a given list of integers."
   ]
  },
  {
   "cell_type": "code",
   "execution_count": 2,
   "id": "cf9013bb",
   "metadata": {},
   "outputs": [
    {
     "name": "stdout",
     "output_type": "stream",
     "text": [
      "enter size : 4\n",
      "enter value : 2\n",
      "enter value : 7\n",
      "enter value : 1\n",
      "enter value : 4\n",
      "the max value is :  7 \n",
      "the min value is :  1\n"
     ]
    }
   ],
   "source": [
    "li=[]\n",
    "size=int(input(\"enter size : \"))\n",
    "for i in range(size):\n",
    "    val=int(input(\"enter value : \"))\n",
    "    li.append(val)\n",
    "mx=max(li)\n",
    "mi=min(li)\n",
    "print(\"the max value is : \",mx,\"\\nthe min value is : \",mi)"
   ]
  },
  {
   "cell_type": "markdown",
   "id": "1e625f3d",
   "metadata": {},
   "source": [
    "37. List Sorting: Write a Python program to sort a list of integers in ascending order."
   ]
  },
  {
   "cell_type": "code",
   "execution_count": 3,
   "id": "158c3534",
   "metadata": {},
   "outputs": [
    {
     "name": "stdout",
     "output_type": "stream",
     "text": [
      "enter size : 5\n",
      "enter value : 4\n",
      "enter value : 3\n",
      "enter value : 2\n",
      "enter value : 1\n",
      "enter value : 6\n",
      "sort values are :  [1, 2, 3, 4, 6]\n"
     ]
    }
   ],
   "source": [
    "li=[]\n",
    "size=int(input(\"enter size : \"))\n",
    "for i in range(size):\n",
    "    val=int(input(\"enter value : \"))\n",
    "    li.append(val)\n",
    "li.sort()\n",
    "print(\"sort values are : \",li)"
   ]
  },
  {
   "cell_type": "markdown",
   "id": "6a52ac3a",
   "metadata": {},
   "source": [
    "38. List Filtering: Given a list of integers, write a Python program to create a new list that contains only the even numbers \n",
    "    from the original list."
   ]
  },
  {
   "cell_type": "code",
   "execution_count": 4,
   "id": "61ebc40e",
   "metadata": {},
   "outputs": [
    {
     "name": "stdout",
     "output_type": "stream",
     "text": [
      "enter size : 5\n",
      "enter value : 1\n",
      "enter value : 2\n",
      "enter value : 3\n",
      "enter value : 4\n",
      "enter value : 6\n",
      "even values of new list :  [2, 4, 6]\n"
     ]
    }
   ],
   "source": [
    "\n",
    "li=[]\n",
    "size=int(input(\"enter size : \"))\n",
    "for i in range(size):\n",
    "    val=int(input(\"enter value : \"))\n",
    "    li.append(val)\n",
    "\n",
    "def even(x):\n",
    "    return  x%2==0\n",
    "\n",
    "\n",
    "li2=list(filter(even,li))\n",
    "print('even values of new list : ',li2)\n"
   ]
  },
  {
   "cell_type": "markdown",
   "id": "3b52303e",
   "metadata": {},
   "source": [
    "39. List Reversal: Write a Python program to reverse a given list without using any built-in functions."
   ]
  },
  {
   "cell_type": "code",
   "execution_count": 5,
   "id": "29f8ecc7",
   "metadata": {},
   "outputs": [
    {
     "name": "stdout",
     "output_type": "stream",
     "text": [
      "enter size : 5\n",
      "enter value : 4\n",
      "enter value : 3\n",
      "enter value : 2\n",
      "enter value : 1\n",
      "enter value : 5\n",
      "[5, 1, 2, 3, 4]\n"
     ]
    }
   ],
   "source": [
    "li=[]\n",
    "li2=[]\n",
    "size=int(input(\"enter size : \"))\n",
    "for i in range(size):\n",
    "    val=int(input(\"enter value : \"))\n",
    "    li.append(val)\n",
    "for i in li:\n",
    "    li2.insert(0,i)\n",
    "print(li2)"
   ]
  },
  {
   "cell_type": "markdown",
   "id": "3a3317c1",
   "metadata": {},
   "source": [
    "40. List Manipulation: Given two lists of integers, write a Python program to create a new list that contains elements common to both lists."
   ]
  },
  {
   "cell_type": "code",
   "execution_count": 6,
   "id": "9723f776",
   "metadata": {},
   "outputs": [
    {
     "name": "stdout",
     "output_type": "stream",
     "text": [
      "enter size : 4\n",
      "enter value : 1\n",
      "enter value : 2\n",
      "enter value : 3\n",
      "enter value : 4\n",
      "enter value : 6\n",
      "enter value : 3\n",
      "enter value : 7\n",
      "enter value : 8\n",
      "3\n"
     ]
    }
   ],
   "source": [
    "def com(x,y):\n",
    "    for i in x:\n",
    "        if i in y:\n",
    "         print(i)\n",
    "\n",
    "\n",
    "\n",
    "li=[]\n",
    "li1=[]\n",
    "size=int(input(\"enter size : \"))\n",
    "for i in range(size):\n",
    "    val=int(input(\"enter value : \"))\n",
    "    li.append(val)\n",
    "for i in range(size):\n",
    "    val=int(input(\"enter value : \"))\n",
    "    li1.append(val)\n",
    "com(li,li1)\n",
    "#print(common_val)"
   ]
  },
  {
   "cell_type": "markdown",
   "id": "bd38f4a8",
   "metadata": {},
   "source": [
    "41. List Element Count: Write a Python program to count the occurrences of a specific element in a given list."
   ]
  },
  {
   "cell_type": "code",
   "execution_count": 8,
   "id": "12cdb2f4",
   "metadata": {},
   "outputs": [
    {
     "name": "stdout",
     "output_type": "stream",
     "text": [
      "enter size : 7\n",
      "enter value : 12\n",
      "enter value : 13\n",
      "enter value : 14\n",
      "enter value : 16\n",
      "enter value : 16\n",
      "enter value : 16\n",
      "enter value : 89\n",
      "enter value for check : 16\n",
      "3\n"
     ]
    }
   ],
   "source": [
    "li=[]\n",
    "size=int(input(\"enter size : \"))\n",
    "for i in range(size):\n",
    "    val=int(input(\"enter value : \"))\n",
    "    li.append(val)\n",
    "element=int(input('enter value for check : '))\n",
    "if element in li:\n",
    "    occur=li.count(element)\n",
    "    \n",
    "print(occur)"
   ]
  },
  {
   "cell_type": "markdown",
   "id": "52f9dff4",
   "metadata": {},
   "source": [
    "42. List Duplicates Removal: Write a Python program to remove duplicates from a given list while preserving the order of the elements."
   ]
  },
  {
   "cell_type": "code",
   "execution_count": 9,
   "id": "1d651d85",
   "metadata": {},
   "outputs": [
    {
     "name": "stdout",
     "output_type": "stream",
     "text": [
      "enter size : 5\n",
      "enter value : 1\n",
      "enter value : 22\n",
      "enter value : 22\n",
      "enter value : 3\n",
      "enter value : 45\n",
      "[1, 22, 3, 45]\n"
     ]
    }
   ],
   "source": [
    "li=[]\n",
    "not_dupli=[]\n",
    "size=int(input(\"enter size : \"))\n",
    "for i in range(size):\n",
    "    val=int(input(\"enter value : \"))\n",
    "    li.append(val)\n",
    "for i in li:\n",
    "    if i not in not_dupli:\n",
    "        not_dupli.append(i)\n",
    "print(not_dupli)"
   ]
  },
  {
   "cell_type": "markdown",
   "id": "d42b0fc1",
   "metadata": {},
   "source": [
    "43. List Comprehension: Given a list of integers, write a Python program to create a new list that contains the squares of the elements using list comprehension."
   ]
  },
  {
   "cell_type": "code",
   "execution_count": 10,
   "id": "ccb76ac4",
   "metadata": {},
   "outputs": [
    {
     "name": "stdout",
     "output_type": "stream",
     "text": [
      "enter size : 4\n",
      "enter value : 1\n",
      "enter value : 2\n",
      "enter value : 3\n",
      "enter value : 4\n",
      "[1, 4, 9, 16]\n"
     ]
    }
   ],
   "source": [
    "li=[]\n",
    "not_dupli=[]\n",
    "size=int(input(\"enter size : \"))\n",
    "for i in range(size):\n",
    "    val=int(input(\"enter value : \"))\n",
    "    li.append(val)\n",
    "li2=[i**2 for i in li]\n",
    "print(li2)"
   ]
  },
  {
   "cell_type": "markdown",
   "id": "71edfddd",
   "metadata": {},
   "source": [
    "# Nested List Problems:"
   ]
  },
  {
   "cell_type": "markdown",
   "id": "83627c69",
   "metadata": {},
   "source": [
    "44. Matrix Addition: Write a Python program to add two matrices represented as nested lists."
   ]
  },
  {
   "cell_type": "code",
   "execution_count": 12,
   "id": "f4f68061",
   "metadata": {},
   "outputs": [
    {
     "name": "stdout",
     "output_type": "stream",
     "text": [
      "Number of rows of first matrix : 2\n",
      "Number of col of first matrix : 2\n",
      "Number of rows of 2nd matrix : 2\n",
      "Number of col of 2nd matrix : 2\n",
      "entries value row wise : \n",
      "1\n",
      "2\n",
      "34\n",
      "2\n",
      "first matrix output : \n",
      "1 2 \n",
      "1 2 \n",
      "entries value row wise : \n",
      "1\n",
      "2\n",
      "3\n",
      "4\n",
      "2nd matrix output : \n",
      "1 2 \n",
      "1 2 \n",
      "adition of matrix : \n",
      "2 4 \n",
      "2 4 \n"
     ]
    }
   ],
   "source": [
    "r1=int(input(\"Number of rows of first matrix : \"))\n",
    "c1=int(input('Number of col of first matrix : '))\n",
    "r2=int(input('Number of rows of 2nd matrix : '))\n",
    "c2=int(input('Number of col of 2nd matrix : '))\n",
    "mat1=[]\n",
    "print(\"entries value row wise : \")\n",
    "for i in range(r1):\n",
    "    a=[]\n",
    "    for j in range(c1):\n",
    "        a.append(int(input()))\n",
    "        mat1.append(a)\n",
    "#printing matrix 1\n",
    "print(\"first matrix output : \")\n",
    "for i in range(r1):\n",
    "    for j in range(c1):\n",
    "        print(mat1[i][j],end=\" \")\n",
    "    print()    \n",
    "mat2=[]\n",
    "print(\"entries value row wise : \")\n",
    "for i in range(r2):\n",
    "   \n",
    "    a=[]\n",
    "    for j in range(c2):\n",
    "        a.append(int(input()))\n",
    "        mat2.append(a)\n",
    "        \n",
    "print(\"2nd matrix output : \")\n",
    "for i in range(r2):\n",
    "    for j in range(c2):\n",
    "        print(mat2[i][j],end=\" \")\n",
    "    print() \n",
    "result=[[0,0],[0,0]]\n",
    "\n",
    "for i in range(r1):\n",
    "    for j in range(c1):\n",
    "        result[i][j]=mat1[i][j]+mat2[i][j]\n",
    "        \n",
    "        \n",
    "print(\"adition of matrix : \")\n",
    "\n",
    "for i in range(r1):\n",
    "    for j in range(c1):\n",
    "        print(result[i][j],end=\" \")\n",
    "    print()"
   ]
  },
  {
   "cell_type": "markdown",
   "id": "63d94ee4",
   "metadata": {},
   "source": [
    "45. Flatten Nested List: Write a Python program to flatten a given nested list and convert it into a single-dimensional list."
   ]
  },
  {
   "cell_type": "code",
   "execution_count": 16,
   "id": "660e11ed",
   "metadata": {},
   "outputs": [
    {
     "name": "stdout",
     "output_type": "stream",
     "text": [
      "[[1, 2, 3], [4, 5, 6], [9, 2, 3]]\n",
      "[1, 2, 3, 4, 5, 6, 9, 2, 3]\n"
     ]
    }
   ],
   "source": [
    "lists=[]\n",
    "\n",
    "lists.append([1,2,3])\n",
    "lists.append([4,5,6])\n",
    "lists.append([9,2,3])\n",
    "print(lists)\n",
    "li=[]\n",
    "for i in lists:\n",
    "    for j in i:\n",
    "        li.append(j)\n",
    "print(li)\n",
    "    "
   ]
  },
  {
   "cell_type": "markdown",
   "id": "5b24153f",
   "metadata": {},
   "source": [
    "46. List Element Frequency: Given a nested list containing lists of integers, write a Python program to count the frequency of each element in the entire nested list."
   ]
  },
  {
   "cell_type": "code",
   "execution_count": 20,
   "id": "12f19ef7",
   "metadata": {},
   "outputs": [
    {
     "name": "stdout",
     "output_type": "stream",
     "text": [
      "Element 1: 2 times\n",
      "Element 2: 3 times\n",
      "Element 3: 1 times\n",
      "Element 4: 2 times\n",
      "Element 5: 1 times\n"
     ]
    }
   ],
   "source": [
    "from collections import Counter\n",
    "def cou_frequencis(lists):\n",
    "    li=[]\n",
    "    for i in lists:\n",
    "        for j in i:\n",
    "            li.append(j)\n",
    "    f_count=Counter(li)\n",
    "    return f_count\n",
    "lists=[[1,2,3],[4,4,5],[1,2,2]]\n",
    "fre=cou_frequencis(lists)\n",
    "for element,count in fre.items():\n",
    "    print(f\"Element {element}: {count} times\")"
   ]
  },
  {
   "cell_type": "markdown",
   "id": "3a571bab",
   "metadata": {},
   "source": [
    "47. Transpose Matrix: Write a Python program to transpose a given matrix represented as a nested list."
   ]
  },
  {
   "cell_type": "code",
   "execution_count": 22,
   "id": "13230e33",
   "metadata": {},
   "outputs": [
    {
     "name": "stdout",
     "output_type": "stream",
     "text": [
      "[1, 2, 8]\n",
      "[2, 3, 5]\n",
      "[3, 5, 6]\n"
     ]
    }
   ],
   "source": [
    "mat=[\n",
    "    [1,2,3],\n",
    "    [2,3,5],\n",
    "    [8,5,6]\n",
    "]\n",
    "result=[[0,0,0],[0,0,0],[0,0,0]]\n",
    "for i in range(len(mat)):\n",
    "    for j in range(len(mat[0])):\n",
    "        result[j][i]=mat[i][j]\n",
    "for r in result:\n",
    "    print(r)\n",
    "               "
   ]
  },
  {
   "cell_type": "markdown",
   "id": "4f03d42c",
   "metadata": {},
   "source": [
    "48. List of Lists Concatenation: Given a list of nested lists, write a Python program to concatenate all the sublists into a single flat list."
   ]
  },
  {
   "cell_type": "code",
   "execution_count": 23,
   "id": "97a63299",
   "metadata": {},
   "outputs": [
    {
     "name": "stdout",
     "output_type": "stream",
     "text": [
      "[1, 2, 3, 2, 3, 5, 8, 5, 6]\n"
     ]
    }
   ],
   "source": [
    "lists=[\n",
    "    [1,2,3],\n",
    "    [2,3,5],\n",
    "    [8,5,6]\n",
    "]\n",
    "\n",
    "li=[]\n",
    "for i in lists:\n",
    "    for j in i:\n",
    "        li.append(j)\n",
    "print(li)\n",
    "        "
   ]
  },
  {
   "cell_type": "markdown",
   "id": "3d88ca31",
   "metadata": {},
   "source": [
    "# Tuple Problems:"
   ]
  },
  {
   "cell_type": "markdown",
   "id": "29cf6ac8",
   "metadata": {},
   "source": [
    "49. Tuple Concatenation: Write a Python program to concatenate two tuples and create a new tuple."
   ]
  },
  {
   "cell_type": "code",
   "execution_count": 31,
   "id": "5b527470",
   "metadata": {},
   "outputs": [
    {
     "name": "stdout",
     "output_type": "stream",
     "text": [
      "enter size : 2\n",
      "enter value : 1\n",
      "enter value : 2\n",
      "enter value : 3\n",
      "enter value : 4\n",
      "(1, 2, 3, 4)\n"
     ]
    }
   ],
   "source": [
    "size=int(input(\"enter size : \"))\n",
    "a=[]\n",
    "for i in range(size):\n",
    "    val=int(input(\"enter value : \"))\n",
    "    a.append(val)\n",
    "tup1=tuple(a)\n",
    "\n",
    "b=[]\n",
    "for i in range(size):\n",
    "    val=int(input(\"enter value : \"))\n",
    "    b.append(val)\n",
    "tup2=tuple(b)\n",
    "tup3=tup1+tup2\n",
    "print(tup3)"
   ]
  },
  {
   "cell_type": "markdown",
   "id": "85dee5ce",
   "metadata": {},
   "source": [
    "50. Tuple Unpacking: Given a tuple with three elements (x, y, z), write a Python program to unpack the tuple and assign the values to three variables."
   ]
  },
  {
   "cell_type": "code",
   "execution_count": 6,
   "id": "785d9b9d",
   "metadata": {},
   "outputs": [
    {
     "name": "stdout",
     "output_type": "stream",
     "text": [
      "enter sizes: 3\n",
      "values : 1\n",
      "values : 2\n",
      "values : 3\n",
      "(1, 2, 3)\n",
      "1\n",
      "2\n",
      "3\n"
     ]
    }
   ],
   "source": [
    "#packing means assigning valuses to a tuple\n",
    "#unpack means extracking values of a tuples\n",
    "\n",
    "size=int(input(\"enter sizes: \"))\n",
    "a=[]\n",
    "for i in range(size):\n",
    "    value=int(input(\"values : \"))\n",
    "    a.append(value)\n",
    "tup=tuple(a)\n",
    "print(tup)\n",
    "\n",
    "val1,val2,val3=tup\n",
    "\n",
    "print(val1)\n",
    "print(val2)\n",
    "print(val3)\n",
    "\n",
    "\n",
    "\n"
   ]
  },
  {
   "cell_type": "markdown",
   "id": "98881946",
   "metadata": {},
   "source": [
    "51. Tuple Sorting: Write a Python program to sort a tuple of integers in ascending order."
   ]
  },
  {
   "cell_type": "code",
   "execution_count": 9,
   "id": "aa426971",
   "metadata": {},
   "outputs": [
    {
     "name": "stdout",
     "output_type": "stream",
     "text": [
      "enter sizes: 5\n",
      "values : 67\n",
      "values : 8\n",
      "values : 2\n",
      "values : 3\n",
      "values : 1\n",
      "(67, 8, 2, 3, 1)\n",
      "after sorting :  (1, 2, 3, 8, 67)\n"
     ]
    }
   ],
   "source": [
    "size=int(input(\"enter sizes: \"))\n",
    "a=[]\n",
    "for i in range(size):\n",
    "    value=int(input(\"values : \"))\n",
    "    a.append(value)\n",
    "tup=tuple(a)\n",
    "print(tup)\n",
    "srt=tuple(sorted(tup))\n",
    "print(\"after sorting : \",srt)"
   ]
  },
  {
   "cell_type": "markdown",
   "id": "27f4911e",
   "metadata": {},
   "source": [
    "52. Tuple Frequency Count: Given a tuple containing various elements, write a Python program to count the frequency of a specific element in the tuple."
   ]
  },
  {
   "cell_type": "code",
   "execution_count": 11,
   "id": "feb53318",
   "metadata": {},
   "outputs": [
    {
     "name": "stdout",
     "output_type": "stream",
     "text": [
      "enter sizes: 5\n",
      "values : 3\n",
      "values : 3\n",
      "values : 4\n",
      "values : 4\n",
      "values : 5\n",
      "tuple elements frequency :  {3: 2, 4: 2, 5: 1}\n"
     ]
    }
   ],
   "source": [
    "from collections import Counter\n",
    "size=int(input(\"enter sizes: \"))\n",
    "a=[]\n",
    "for i in range(size):\n",
    "    value=int(input(\"values : \"))\n",
    "    a.append(value)\n",
    "tup=tuple(a)\n",
    "\n",
    "cn=dict(Counter(tup))\n",
    "print(\"tuple elements frequency : \",cn)\n"
   ]
  },
  {
   "cell_type": "markdown",
   "id": "522f1d35",
   "metadata": {},
   "source": [
    "53. Tuple to List: Write a Python program to convert a tuple into a list.\n"
   ]
  },
  {
   "cell_type": "code",
   "execution_count": 12,
   "id": "44444615",
   "metadata": {},
   "outputs": [
    {
     "name": "stdout",
     "output_type": "stream",
     "text": [
      "enter sizes: 5\n",
      "values : 1\n",
      "values : 2\n",
      "values : 3\n",
      "values : 4\n",
      "values : 5\n",
      "tuples :  (1, 2, 3, 4, 5)\n",
      "After conversion :  [1, 2, 3, 4, 5]\n"
     ]
    }
   ],
   "source": [
    "size=int(input(\"enter sizes: \"))\n",
    "a=[]\n",
    "for i in range(size):\n",
    "    value=int(input(\"values : \"))\n",
    "    a.append(value)\n",
    "tup=tuple(a)\n",
    "print(\"tuples : \",tup)\n",
    "li=list(tup)\n",
    "print(\"After conversion : \",li)"
   ]
  },
  {
   "cell_type": "markdown",
   "id": "e27fd44b",
   "metadata": {},
   "source": [
    "54. Tuple Reversal: Write a Python program to reverse a tuple without using any built-in functions."
   ]
  },
  {
   "cell_type": "code",
   "execution_count": 18,
   "id": "63ad4b3d",
   "metadata": {},
   "outputs": [
    {
     "name": "stdout",
     "output_type": "stream",
     "text": [
      "enter sizes: 5\n",
      "values : 1\n",
      "values : 2\n",
      "values : 3\n",
      "values : 4\n",
      "values : 5\n",
      "Before reverse :  (1, 2, 3, 4, 5)\n",
      "After reversed :  (5, 4, 3, 2, 1)\n"
     ]
    }
   ],
   "source": [
    "size=int(input(\"enter sizes: \"))\n",
    "a=[]\n",
    "for i in range(size):\n",
    "    value=int(input(\"values : \"))\n",
    "    a.append(value)\n",
    "tup=tuple(a)\n",
    "print(\"Before reverse : \",tup)\n",
    "res=()\n",
    "for i in range(len(tup)-1,-1,-1):\n",
    "    res +=(tup[i],)\n",
    "print(\"After reversed : \",res)\n",
    "    "
   ]
  },
  {
   "cell_type": "markdown",
   "id": "bfe49e1a",
   "metadata": {},
   "source": [
    "55. Tuple Slicing: Given a tuple, write a Python program to extract a slice of elements from it.\n"
   ]
  },
  {
   "cell_type": "code",
   "execution_count": 19,
   "id": "3f3e86bf",
   "metadata": {},
   "outputs": [
    {
     "name": "stdout",
     "output_type": "stream",
     "text": [
      "enter sizes: 5\n",
      "values : 1\n",
      "values : 2\n",
      "values : 3\n",
      "values : 4\n",
      "values : 5\n",
      "(1, 2, 3, 4, 5)\n",
      "(3, 4, 5)\n",
      "(4, 5)\n"
     ]
    }
   ],
   "source": [
    "size=int(input(\"enter sizes: \"))\n",
    "a=[]\n",
    "for i in range(size):\n",
    "    value=int(input(\"values : \"))\n",
    "    a.append(value)\n",
    "tup=tuple(a)\n",
    "print(tup)\n",
    "print(tup[2:5])\n",
    "print(tup[3:5])"
   ]
  },
  {
   "cell_type": "markdown",
   "id": "61901780",
   "metadata": {},
   "source": [
    "56. Tuple Operations: Given two tuples of integers, write a Python program to perform element-wise addition, subtraction, and multiplication and create new tuples for each operation."
   ]
  },
  {
   "cell_type": "code",
   "execution_count": 21,
   "id": "fa1f46c6",
   "metadata": {},
   "outputs": [
    {
     "name": "stdout",
     "output_type": "stream",
     "text": [
      "enter size : 5\n",
      "enter value : 1\n",
      "enter value : 2\n",
      "enter value : 3\n",
      "enter value : 4\n",
      "enter value : 1\n",
      "enter value : 1\n",
      "enter value : 2\n",
      "enter value : 3\n",
      "enter value : 4\n",
      "enter value : 5\n",
      "addition :  (2, 4, 6, 8, 6)\n",
      "substraction :  (0, 0, 0, 0, -4)\n",
      "multiplication :  (1, 4, 9, 16, 5)\n"
     ]
    }
   ],
   "source": [
    "size=int(input(\"enter size : \"))\n",
    "a=[]\n",
    "for i in range(size):\n",
    "    val=int(input(\"enter value : \"))\n",
    "    a.append(val)\n",
    "tup1=tuple(a)\n",
    "\n",
    "b=[]\n",
    "for i in range(size):\n",
    "    val=int(input(\"enter value : \"))\n",
    "    b.append(val)\n",
    "tup2=tuple(b)\n",
    "add=[]\n",
    "sub=[]\n",
    "multi=[]\n",
    "for i in range(0,len(tup1)):\n",
    "    add.append(tup1[i]+tup2[i])\n",
    "    sub.append(tup1[i]-tup2[i])\n",
    "    multi.append(tup1[i]*tup2[i])\n",
    "print(\"addition : \",tuple(add))\n",
    "print(\"substraction : \",tuple(sub))\n",
    "print(\"multiplication : \",tuple(multi))\n",
    "    "
   ]
  },
  {
   "cell_type": "markdown",
   "id": "6e498976",
   "metadata": {},
   "source": [
    "57. Tuple Membership Test: Write a Python program that takes an element as input and checks if it exists in a given tuple."
   ]
  },
  {
   "cell_type": "code",
   "execution_count": 25,
   "id": "8c360c91",
   "metadata": {},
   "outputs": [
    {
     "name": "stdout",
     "output_type": "stream",
     "text": [
      "enter sizes: 5\n",
      "values : 3\n",
      "values : 2\n",
      "values : 1\n",
      "values : 3\n",
      "values : 8\n",
      "(3, 2, 1, 3, 8)\n",
      "check value : 5\n",
      "[]\n",
      "no\n"
     ]
    }
   ],
   "source": [
    "size=int(input(\"enter sizes: \"))\n",
    "a=[]\n",
    "for i in range(size):\n",
    "    value=int(input(\"values : \"))\n",
    "    a.append(value)\n",
    "tup=tuple(a)\n",
    "print(tup)\n",
    "k=int(input(\"check value : \"))\n",
    "x=[i for i in tup if i==k]\n",
    "print(x)\n",
    "print(\"yes\" if x else \"no\")"
   ]
  },
  {
   "cell_type": "markdown",
   "id": "9b283489",
   "metadata": {},
   "source": [
    "58. Tuple Packing: Write a Python program to pack three variables into a single tuple and print the tuple."
   ]
  },
  {
   "cell_type": "code",
   "execution_count": 26,
   "id": "ab5b3dc2",
   "metadata": {},
   "outputs": [
    {
     "name": "stdout",
     "output_type": "stream",
     "text": [
      "first value: 2\n",
      "second value: 3\n",
      "third value: 4\n",
      "(2, 3, 4)\n"
     ]
    }
   ],
   "source": [
    "val1=int(input(\"first value: \"))\n",
    "val2=int(input(\"second value: \"))\n",
    "val3=int(input(\"third value: \"))\n",
    "new_tup=(val1,val2,val3)\n",
    "print(new_tup)"
   ]
  },
  {
   "cell_type": "markdown",
   "id": "ebb48ef1",
   "metadata": {},
   "source": [
    "# Nested List Problems:"
   ]
  },
  {
   "cell_type": "markdown",
   "id": "599d1a8b",
   "metadata": {},
   "source": [
    "59. Nested List Element Access: Given a nested list, write a Python program to access and print specific elements from it."
   ]
  },
  {
   "cell_type": "code",
   "execution_count": 4,
   "id": "4576490a",
   "metadata": {},
   "outputs": [],
   "source": [
    "nested_li=[\n",
    "    [1,2,3],\n",
    "    [4,5,6],\n",
    "    [8,2,9]\n",
    "]\n",
    "\n",
    "print(nested_li[0][1])\n",
    "print(nested_li[1][2])\n",
    "print(nested_li[2][0])"
   ]
  },
  {
   "cell_type": "markdown",
   "id": "0a5192f6",
   "metadata": {},
   "source": [
    "60. Nested List Flattening: Write a Python program to flatten a nested list and convert it into a single-dimensional list."
   ]
  },
  {
   "cell_type": "code",
   "execution_count": 7,
   "id": "40bd0b21",
   "metadata": {},
   "outputs": [],
   "source": [
    "lists=[]\n",
    "\n",
    "lists.append([1,2,3])\n",
    "lists.append([4,5,6])\n",
    "lists.append([9,2,3])\n",
    "print(lists)\n",
    "li=[]\n",
    "for i in lists:\n",
    "    for j in i:\n",
    "        li.append(j)\n",
    "print(li)"
   ]
  },
  {
   "cell_type": "markdown",
   "id": "246fcc88",
   "metadata": {},
   "source": [
    "61. Nested List Sorting: Given a nested list containing lists of integers, write a Python program to sort the sublists based on their lengths."
   ]
  },
  {
   "cell_type": "code",
   "execution_count": 11,
   "id": "1bf2a23f",
   "metadata": {},
   "outputs": [
    {
     "name": "stdout",
     "output_type": "stream",
     "text": [
      "[[3], [8, 1], [2, 3, 2]]\n"
     ]
    }
   ],
   "source": [
    "li=[\n",
    "    [2,3,2],\n",
    "    [8,1],\n",
    "    [3]\n",
    "]\n",
    "res=sorted(li,key=len)\n",
    "print(res)"
   ]
  },
  {
   "cell_type": "markdown",
   "id": "dbdcdb15",
   "metadata": {},
   "source": [
    "62. List of Tuples Conversion: Given a nested list containing tuples of (x, y) coordinates, write a Python program to convert it into a list of x-coordinates and a list of y-coordinates."
   ]
  },
  {
   "cell_type": "code",
   "execution_count": 12,
   "id": "a9da2b84",
   "metadata": {},
   "outputs": [
    {
     "name": "stdout",
     "output_type": "stream",
     "text": [
      "x-coordinates: [1, 3, 5, 7, 9, 11, 13]\n",
      "y-coordinates: [2, 4, 6, 8, 10, 12, 14]\n"
     ]
    }
   ],
   "source": [
    "#do not understand properly\n",
    "def extract_coordinates(nested_list):\n",
    "    x_coords = []\n",
    "    y_coords = []\n",
    "\n",
    "    def _extract(sublist):\n",
    "        for item in sublist:\n",
    "            if isinstance(item, list):\n",
    "                _extract(item)\n",
    "            elif isinstance(item, tuple) and len(item) == 2:\n",
    "                x_coords.append(item[0])\n",
    "                y_coords.append(item[1])\n",
    "\n",
    "    _extract(nested_list)\n",
    "    return x_coords, y_coords\n",
    "\n",
    "# Example usage\n",
    "nested_list = [\n",
    "    [(1, 2), (3, 4)],\n",
    "    [(5, 6), (7, 8)],\n",
    "    [[(9, 10), (11, 12)], [(13, 14)]]\n",
    "]\n",
    "\n",
    "x_coords, y_coords = extract_coordinates(nested_list)\n",
    "print(\"x-coordinates:\", x_coords)\n",
    "print(\"y-coordinates:\", y_coords)\n"
   ]
  },
  {
   "cell_type": "markdown",
   "id": "0a3993a2",
   "metadata": {},
   "source": [
    "63. Matrix Transpose: Write a Python program to transpose a given matrix represented as a nested list."
   ]
  },
  {
   "cell_type": "code",
   "execution_count": 13,
   "id": "821746be",
   "metadata": {},
   "outputs": [
    {
     "name": "stdout",
     "output_type": "stream",
     "text": [
      "[1, 2, 8]\n",
      "[2, 3, 5]\n",
      "[3, 5, 6]\n"
     ]
    }
   ],
   "source": [
    "mat=[\n",
    "    [1,2,3],\n",
    "    [2,3,5],\n",
    "    [8,5,6]\n",
    "]\n",
    "result=[[0,0,0],[0,0,0],[0,0,0]]\n",
    "for i in range(len(mat)):\n",
    "    for j in range(len(mat[0])):\n",
    "        result[j][i]=mat[i][j]\n",
    "for r in result:\n",
    "    print(r)\n",
    "              "
   ]
  },
  {
   "cell_type": "markdown",
   "id": "b0ac7bcb",
   "metadata": {},
   "source": [
    "64. Nested List Concatenation: Given a list of nested lists, write a Python program to concatenate all the sublists into a single flat list."
   ]
  },
  {
   "cell_type": "code",
   "execution_count": 14,
   "id": "c1c738b3",
   "metadata": {},
   "outputs": [
    {
     "name": "stdout",
     "output_type": "stream",
     "text": [
      "[1, 2, 3, 2, 3, 4, 8, 5, 6]\n"
     ]
    }
   ],
   "source": [
    "li=[\n",
    "    [1,2,3],\n",
    "    [2,3,4],\n",
    "    [8,5,6]\n",
    "]\n",
    "a=[]\n",
    "for i in li:\n",
    "    for j in i:\n",
    "        a.append(j)\n",
    "print(a)"
   ]
  },
  {
   "cell_type": "markdown",
   "id": "9ba70352",
   "metadata": {},
   "source": [
    "65. Count Even Numbers: Write a Python program to count the number of even numbers in a nested list."
   ]
  },
  {
   "cell_type": "code",
   "execution_count": 15,
   "id": "1476594c",
   "metadata": {},
   "outputs": [
    {
     "name": "stdout",
     "output_type": "stream",
     "text": [
      "5\n"
     ]
    }
   ],
   "source": [
    "li=[\n",
    "    [1,2,3],\n",
    "    [2,3,4],\n",
    "    [8,5,6]\n",
    "]\n",
    "cn=0\n",
    "for i in li:\n",
    "    for j in i:\n",
    "        if j%2==0:\n",
    "            cn+=1\n",
    "print(cn)\n"
   ]
  },
  {
   "cell_type": "markdown",
   "id": "431497c2",
   "metadata": {},
   "source": [
    "66. Maximum Element in Nested List: Write a Python program to find the maximum element in a nested list of integers."
   ]
  },
  {
   "cell_type": "code",
   "execution_count": 16,
   "id": "98290d1b",
   "metadata": {},
   "outputs": [
    {
     "name": "stdout",
     "output_type": "stream",
     "text": [
      "8\n"
     ]
    }
   ],
   "source": [
    "li=[\n",
    "    [1,2,3],\n",
    "    [2,3,4],\n",
    "    [8,5,6]\n",
    "]\n",
    "a=[]\n",
    "for i in li:\n",
    "    for j in i:\n",
    "        a.append(j)\n",
    "print(max(a))"
   ]
  },
  {
   "cell_type": "markdown",
   "id": "afc65fed",
   "metadata": {},
   "source": [
    "67. Diagonal Sum of Matrix: Given a square matrix represented as a nested list, write a Python program to calculate the sum of the elements in the main diagonal."
   ]
  },
  {
   "cell_type": "code",
   "execution_count": 17,
   "id": "591f9c24",
   "metadata": {},
   "outputs": [
    {
     "name": "stdout",
     "output_type": "stream",
     "text": [
      "10\n"
     ]
    }
   ],
   "source": [
    "mat=[\n",
    "    [1,2,3],\n",
    "    [2,3,5],\n",
    "    [8,5,6]\n",
    "]\n",
    "sum=0\n",
    "for i in range(len(mat)):\n",
    "    for j in range(len(mat[0])):\n",
    "        if i==j:\n",
    "            sum+=mat[i][j]\n",
    "print(sum)"
   ]
  },
  {
   "cell_type": "markdown",
   "id": "4f2fc33e",
   "metadata": {},
   "source": [
    "68. Nested List Element Search: Write a Python program to search for a specific element in a nested list and return its position (row and column indices)."
   ]
  },
  {
   "cell_type": "code",
   "execution_count": 27,
   "id": "33d972f4",
   "metadata": {},
   "outputs": [
    {
     "name": "stdout",
     "output_type": "stream",
     "text": [
      "element found at (2,1)\n"
     ]
    }
   ],
   "source": [
    "def srch(mat,n,x):\n",
    "    if n==0:\n",
    "        return -1\n",
    "    for i in range(n):\n",
    "        for j in range(n):\n",
    "            if mat[i][j]==x:\n",
    "                print(f\"element found at ({i},{j})\")\n",
    "if __name__ == \"__main__\": #understand this line\n",
    " mat = [[10, 20, 30, 40], [15, 25, 35, 45],\n",
    "           [27, 29, 37, 48], [32, 33, 39, 50]]\n",
    "\n",
    "    \n",
    " srch(mat, 4, 29)"
   ]
  },
  {
   "cell_type": "markdown",
   "id": "ba0d7f5e",
   "metadata": {},
   "source": [
    "# Set Problems:"
   ]
  },
  {
   "cell_type": "markdown",
   "id": "ec8dec8f",
   "metadata": {},
   "source": [
    "69. Duplicate Removal: Write a Python program that takes a list of elements as input and creates a new set containing only the unique elements from the list."
   ]
  },
  {
   "cell_type": "code",
   "execution_count": 29,
   "id": "fd609c11",
   "metadata": {},
   "outputs": [
    {
     "name": "stdout",
     "output_type": "stream",
     "text": [
      "enter size : 5\n",
      "enter value : 11\n",
      "enter value : 11\n",
      "enter value : 2\n",
      "enter value : 3\n",
      "enter value : 4\n",
      "{3, 2, 11, 4}\n"
     ]
    }
   ],
   "source": [
    "li=[]\n",
    "size=int(input(\"enter size : \"))\n",
    "for i in range(size):\n",
    "    val=int(input(\"enter value : \"))\n",
    "    li.append(val)\n",
    "print(set(li))"
   ]
  },
  {
   "cell_type": "markdown",
   "id": "0e466a4c",
   "metadata": {},
   "source": [
    "70. Set Intersection: Given two sets A and B, write a Python program to find their intersection and print the common elements."
   ]
  },
  {
   "cell_type": "code",
   "execution_count": 31,
   "id": "551df847",
   "metadata": {},
   "outputs": [
    {
     "name": "stdout",
     "output_type": "stream",
     "text": [
      "{3}\n"
     ]
    }
   ],
   "source": [
    "a={1,2,3,4}\n",
    "b={3,5,6,7}\n",
    "print(a.intersection(b))"
   ]
  },
  {
   "cell_type": "markdown",
   "id": "74540c7c",
   "metadata": {},
   "source": [
    "71. Set Union: Given two sets A and B, write a Python program to find their union and print all the distinct elements from both sets."
   ]
  },
  {
   "cell_type": "code",
   "execution_count": 32,
   "id": "9be8d673",
   "metadata": {},
   "outputs": [
    {
     "name": "stdout",
     "output_type": "stream",
     "text": [
      "{1, 2, 3, 4, 5, 6, 7}\n"
     ]
    }
   ],
   "source": [
    "a={1,2,3,4}\n",
    "b={3,5,6,7}\n",
    "print(a.union(b))"
   ]
  },
  {
   "cell_type": "markdown",
   "id": "1210da86",
   "metadata": {},
   "source": [
    "72. Set Difference: Given two sets A and B, write a Python program to find the difference between set A and set B (i.e., elements present in A but not in B) and print the result."
   ]
  },
  {
   "cell_type": "code",
   "execution_count": 33,
   "id": "15224427",
   "metadata": {},
   "outputs": [
    {
     "name": "stdout",
     "output_type": "stream",
     "text": [
      "{10, 20}\n"
     ]
    }
   ],
   "source": [
    "A={10,20,30,40}\n",
    "B={30,40,60,45}\n",
    "print(A.difference(B))"
   ]
  },
  {
   "cell_type": "markdown",
   "id": "88e7cda4",
   "metadata": {},
   "source": [
    "73. Set Symmetric Difference: Given two sets A and B, write a Python program to find the symmetric difference between the two sets (i.e., elements that are present in either set A or set B, but not in both) and print the result."
   ]
  },
  {
   "cell_type": "code",
   "execution_count": 34,
   "id": "3e4f14be",
   "metadata": {},
   "outputs": [
    {
     "name": "stdout",
     "output_type": "stream",
     "text": [
      "{4, 5, 6, 7, 8, 9}\n"
     ]
    }
   ],
   "source": [
    "A={1,2,3,4,5,6}\n",
    "B={2,3,7,8,9,1}\n",
    "print(A.symmetric_difference(B))"
   ]
  },
  {
   "cell_type": "markdown",
   "id": "d1d7fdf7",
   "metadata": {},
   "source": [
    "74. Set Operations: Given three sets A, B, and C, write a Python program to find and print the intersection of A and B, the union of B and C, and the difference between C and A."
   ]
  },
  {
   "cell_type": "code",
   "execution_count": 35,
   "id": "99913f9a",
   "metadata": {},
   "outputs": [
    {
     "name": "stdout",
     "output_type": "stream",
     "text": [
      "{5, 6}\n",
      "{5, 6, 7, 8, 9, 10, 12, 45, 13}\n",
      "{13, 12, 45}\n"
     ]
    }
   ],
   "source": [
    "A={1,2,3,4,5,6}\n",
    "B={5,6,7,8,9,10}\n",
    "C={5,6,12,13,45}\n",
    "print(A.intersection(B))\n",
    "print(B.union(C))\n",
    "print(C.difference(A))"
   ]
  },
  {
   "cell_type": "markdown",
   "id": "3950e316",
   "metadata": {},
   "source": [
    "75. Set Subset Check: Given two sets A and B, write a Python program to check if set A is a subset of set B and print the result."
   ]
  },
  {
   "cell_type": "code",
   "execution_count": 36,
   "id": "473e38e4",
   "metadata": {},
   "outputs": [
    {
     "name": "stdout",
     "output_type": "stream",
     "text": [
      "True\n"
     ]
    }
   ],
   "source": [
    "A={30,40}\n",
    "B={30,40,60,45}\n",
    "print(A.issubset(B))"
   ]
  },
  {
   "cell_type": "markdown",
   "id": "3e8c36cf",
   "metadata": {},
   "source": [
    "76. Set Superset Check: Given two sets A and B, write a Python program to check if set A is a superset of set B and print the result."
   ]
  },
  {
   "cell_type": "code",
   "execution_count": 38,
   "id": "465bf5bc",
   "metadata": {},
   "outputs": [
    {
     "name": "stdout",
     "output_type": "stream",
     "text": [
      "False\n"
     ]
    }
   ],
   "source": [
    "A={30,40}\n",
    "B={30,40,60,45}\n",
    "print(A.issuperset(B))"
   ]
  },
  {
   "cell_type": "markdown",
   "id": "1b49987f",
   "metadata": {},
   "source": [
    "77. Set Length Check: Write a Python program that takes a set as input and prints the number of elements in the set."
   ]
  },
  {
   "cell_type": "code",
   "execution_count": 39,
   "id": "10362c64",
   "metadata": {},
   "outputs": [
    {
     "name": "stdout",
     "output_type": "stream",
     "text": [
      "4\n"
     ]
    }
   ],
   "source": [
    "B={30,40,60,45}\n",
    "print(len(B))"
   ]
  },
  {
   "cell_type": "markdown",
   "id": "9f1d1397",
   "metadata": {},
   "source": [
    "76. Set Membership Test: Write a Python program that takes an element as input and checks if it exists in a given set. Print “Found” if the element is present and “Not Found” otherwise."
   ]
  },
  {
   "cell_type": "code",
   "execution_count": 40,
   "id": "86bf9674",
   "metadata": {},
   "outputs": [
    {
     "name": "stdout",
     "output_type": "stream",
     "text": [
      "Enter checker : 3\n",
      "Found\n"
     ]
    }
   ],
   "source": [
    "A={1,2,3,4,5,6}\n",
    "check=int(input(\"Enter checker : \"))\n",
    "if check in A:\n",
    "    print(\"Found\")\n",
    "else:\n",
    "    print(\"Not found\")\n",
    "        "
   ]
  },
  {
   "cell_type": "markdown",
   "id": "ec2889dc",
   "metadata": {},
   "source": [
    "# Dictionary Problems:"
   ]
  },
  {
   "cell_type": "markdown",
   "id": "9b3fc462",
   "metadata": {},
   "source": [
    "77. Dictionary Manipulation: Given a dictionary with student names as keys and their corresponding scores as values, write a Python program to add a new student to the dictionary and update the score of an existing student."
   ]
  },
  {
   "cell_type": "code",
   "execution_count": 42,
   "id": "f68a38d9",
   "metadata": {},
   "outputs": [
    {
     "name": "stdout",
     "output_type": "stream",
     "text": [
      "before update :  {'sakib': 90, 'rakib': 89, 'asad': 97}\n",
      "After update :  {'sakib': 90, 'rakib': 89, 'asad': 97, 'hossein': 88, 'rafi': 85}\n"
     ]
    }
   ],
   "source": [
    "student={\n",
    "    \"sakib\" : 90,\n",
    "    \"rakib\" :89,\n",
    "    \"asad\": 97\n",
    "}\n",
    "print(\"before update : \",student)\n",
    "student.update({\"hossein\":88,\"rafi\":85})\n",
    "print(\"After update : \",student)"
   ]
  },
  {
   "cell_type": "markdown",
   "id": "1ef92647",
   "metadata": {},
   "source": [
    "78. Dictionary Keys and Values: Write a Python program that takes a dictionary as input and prints all the keys and values in separate lines."
   ]
  },
  {
   "cell_type": "code",
   "execution_count": 44,
   "id": "4ac155e2",
   "metadata": {},
   "outputs": [
    {
     "name": "stdout",
     "output_type": "stream",
     "text": [
      "dict key value pair num : 3\n",
      "enter key: sakib\n",
      "enter values : 34\n",
      "enter key: rakib\n",
      "enter values : 45\n",
      "enter key: asad\n",
      "enter values : 34\n",
      "dict_keys(['sakib', 'rakib', 'asad'])\n",
      "dict_values(['34', '45', '34'])\n"
     ]
    }
   ],
   "source": [
    "n=int(input(\"dict key value pair num : \"))\n",
    "dict={}\n",
    "for _ in range(n):\n",
    "    key=(input(\"enter key: \"))\n",
    "    val=(input(\"enter values : \"))\n",
    "    dict[key]=val\n",
    "print(dict.keys())\n",
    "print(dict.values())\n",
    "    "
   ]
  },
  {
   "cell_type": "markdown",
   "id": "1af3d0bb",
   "metadata": {},
   "source": [
    "79. Dictionary Length: Write a Python program to calculate and print the number of key-value pairs in a given dictionary."
   ]
  },
  {
   "cell_type": "code",
   "execution_count": 45,
   "id": "ab65676a",
   "metadata": {},
   "outputs": [
    {
     "name": "stdout",
     "output_type": "stream",
     "text": [
      "3\n"
     ]
    }
   ],
   "source": [
    "student={\n",
    "    \"sakib\" : 90,\n",
    "    \"rakib\" :89,\n",
    "    \"asad\": 97\n",
    "}\n",
    "print(len(student))"
   ]
  },
  {
   "cell_type": "markdown",
   "id": "6d7d4f52",
   "metadata": {},
   "source": [
    "80. Dictionary Value Search: Given a dictionary of items and their prices, write a Python program to search for an item based on its price and print the item’s name."
   ]
  },
  {
   "cell_type": "code",
   "execution_count": 53,
   "id": "a9164e60",
   "metadata": {},
   "outputs": [
    {
     "name": "stdout",
     "output_type": "stream",
     "text": [
      "dict key value pair num : 2\n",
      "enter key: mutton\n",
      "enter values : 40\n",
      "enter key: beef\n",
      "enter values : 30\n",
      "enter price : 40\n"
     ]
    }
   ],
   "source": [
    "#problem\n",
    "n=int(input(\"dict key value pair num : \"))\n",
    "dict={}\n",
    "for _ in range(n):\n",
    "    key=(input(\"enter key: \"))\n",
    "    val=(input(\"enter values : \"))\n",
    "    dict[key]=val\n",
    "price=input(\"enter price : \")\n",
    "for i,price in dict.items():\n",
    "    if price==i:\n",
    "        print(dict[i])\n",
    "    \n",
    "   "
   ]
  },
  {
   "cell_type": "markdown",
   "id": "26f21960",
   "metadata": {},
   "source": [
    "81. Dictionary Merging: Given two dictionaries, write a Python program to merge them into a single dictionary and print the result."
   ]
  },
  {
   "cell_type": "code",
   "execution_count": 58,
   "id": "4713bd7e",
   "metadata": {},
   "outputs": [
    {
     "name": "stdout",
     "output_type": "stream",
     "text": [
      "{'sakib': 78, 'hasan': 45, 'rakib': 45, 'boro': 89}\n"
     ]
    }
   ],
   "source": [
    "dict1={\n",
    "    \"sakib\":78,\n",
    "    \"hasan\":45\n",
    "    \n",
    "}\n",
    "dict2={\n",
    "    \"rakib\":45,\n",
    "    \"boro\":89\n",
    "}\n",
    "dict1.update(dict2)\n",
    "print(dict1)"
   ]
  },
  {
   "cell_type": "markdown",
   "id": "894f7785",
   "metadata": {},
   "source": [
    "82. Dictionary Key Removal: Given a dictionary of items and their quantities, write a Python program to remove a specific item from the dictionary based on user input."
   ]
  },
  {
   "cell_type": "code",
   "execution_count": 2,
   "id": "6a012e47",
   "metadata": {},
   "outputs": [
    {
     "name": "stdout",
     "output_type": "stream",
     "text": [
      "before removing :  {'sakib': 45, 'rakib': 78, 'asad': 49}\n",
      "after removing :  {'sakib': 45, 'rakib': 78}\n"
     ]
    }
   ],
   "source": [
    "dict={\n",
    "    \"sakib\":45,\n",
    "    \"rakib\":78,\n",
    "    \"asad\":49\n",
    "    \n",
    "}\n",
    "print(\"before removing : \",dict)\n",
    "del dict[\"asad\"]\n",
    "print(\"after removing : \",dict)"
   ]
  },
  {
   "cell_type": "markdown",
   "id": "f4142adf",
   "metadata": {},
   "source": [
    "83. Dictionary Sorting: Given a dictionary with names as keys and corresponding ages as values, write a Python program to sort the dictionary based on age in ascending order."
   ]
  },
  {
   "cell_type": "code",
   "execution_count": 9,
   "id": "478b931e",
   "metadata": {},
   "outputs": [
    {
     "name": "stdout",
     "output_type": "stream",
     "text": [
      "enter size : 3\n",
      "enter namesakib\n",
      "enter age 25\n",
      "enter namerakib\n",
      "enter age 1\n",
      "enter nameasad\n",
      "enter age 3\n",
      "[('rakib', 1), ('asad', 3), ('sakib', 25)]\n"
     ]
    }
   ],
   "source": [
    "n=int(input(\"enter size : \"))\n",
    "dict={}\n",
    "for _ in range(n):\n",
    "    key=input(\"enter name\")\n",
    "    val=int(input(\"enter age \"))\n",
    "    dict[key]=val\n",
    "    \n",
    "def dicval(a):\n",
    "    return a[1]\n",
    "myval=sorted(dict.items(),key=dicval)\n",
    "print(myval)\n"
   ]
  },
  {
   "cell_type": "markdown",
   "id": "456033ad",
   "metadata": {},
   "source": [
    "84. Dictionary Frequency Count: Write a Python program that takes a string as input and creates a dictionary containing each character as a key and its frequency as the value."
   ]
  },
  {
   "cell_type": "code",
   "execution_count": 11,
   "id": "560397e2",
   "metadata": {},
   "outputs": [
    {
     "name": "stdout",
     "output_type": "stream",
     "text": [
      "Enter string : my name \n",
      "{'m': 2, 'y': 1, ' ': 2, 'n': 1, 'a': 1, 'e': 1}\n"
     ]
    }
   ],
   "source": [
    "str=input(\"Enter string : \")\n",
    "count={}\n",
    "for i in str:\n",
    "    if i in count.keys():\n",
    "        count[i]+=1\n",
    "    else:\n",
    "        count[i]=1\n",
    "print(count)"
   ]
  },
  {
   "cell_type": "markdown",
   "id": "95650521",
   "metadata": {},
   "source": [
    "85. Dictionary Comprehension: Given a list of integers, write a Python program to create a dictionary where the keys are the elements from the list, and the values are their squares."
   ]
  },
  {
   "cell_type": "code",
   "execution_count": 2,
   "id": "f9f1776b",
   "metadata": {},
   "outputs": [
    {
     "name": "stdout",
     "output_type": "stream",
     "text": [
      "enter list size : 15\n",
      "{1: 1, 2: 4, 3: 9, 4: 16, 5: 25, 6: 36, 7: 49, 8: 64, 9: 81, 10: 100, 11: 121, 12: 144, 13: 169, 14: 196, 15: 225}\n"
     ]
    }
   ],
   "source": [
    "n=int(input(\"enter list size : \"))\n",
    "dict={}\n",
    "for i in range(1,n+1):\n",
    "    dict[i]=i**2\n",
    "print(dict)"
   ]
  },
  {
   "cell_type": "markdown",
   "id": "7e283f01",
   "metadata": {},
   "source": [
    "86. Dictionary Key Check: Write a Python program that takes a key as input and checks if it exists in a given dictionary. Print “Key Found” if the key is present and “Key Not Found” otherwise."
   ]
  },
  {
   "cell_type": "code",
   "execution_count": 4,
   "id": "faac61af",
   "metadata": {},
   "outputs": [
    {
     "name": "stdout",
     "output_type": "stream",
     "text": [
      "dict key value pair num : 2\n",
      "enter key: sakib\n",
      "enter values : 34\n",
      "enter key: rakib\n",
      "enter values : 3\n",
      "enter cheaker: sakib\n",
      "key is found\n"
     ]
    }
   ],
   "source": [
    "n=int(input(\"dict key value pair num : \"))\n",
    "dict={}\n",
    "for _ in range(n):\n",
    "    key=(input(\"enter key: \"))\n",
    "    val=(input(\"enter values : \"))\n",
    "    dict[key]=val\n",
    "checker=input(\"enter cheaker: \")\n",
    "if checker in dict:\n",
    "    print(\"key is found\")\n",
    "else:\n",
    "    print(\"key is not found \")"
   ]
  },
  {
   "cell_type": "markdown",
   "id": "52d0ba5e",
   "metadata": {},
   "source": [
    "# Nested Dictionary Problems:"
   ]
  },
  {
   "cell_type": "markdown",
   "id": "0e2ba3d0",
   "metadata": {},
   "source": [
    "87. Access Nested Dictionary: Given a nested dictionary containing student details, write a Python program to access and print specific information such as a student’s name, age, and address."
   ]
  },
  {
   "cell_type": "code",
   "execution_count": 7,
   "id": "d38896d5",
   "metadata": {},
   "outputs": [
    {
     "name": "stdout",
     "output_type": "stream",
     "text": [
      "24\n",
      "rakib\n"
     ]
    }
   ],
   "source": [
    "std_info={\n",
    "    \"std1\":{\n",
    "        \"name\":\"sakib\",\n",
    "        \"age\":24,\n",
    "        \"adress\":\"Tangail\"\n",
    "    },\n",
    "     \"std2\":{\n",
    "        \"name\":\"rakib\",\n",
    "        \"age\":28,\n",
    "        \"adress\":\"Tangail\"\n",
    "    } \n",
    "}\n",
    "print(std_info[\"std1\"][\"age\"])\n",
    "print(std_info[\"std2\"][\"name\"])"
   ]
  },
  {
   "cell_type": "markdown",
   "id": "3aa15e60",
   "metadata": {},
   "source": [
    "88. Nested Dictionary Length: Write a Python program to calculate and print the total number of key-value pairs in a nested dictionary."
   ]
  },
  {
   "cell_type": "code",
   "execution_count": 13,
   "id": "6dfded28",
   "metadata": {},
   "outputs": [
    {
     "ename": "TypeError",
     "evalue": "isinstance() arg 2 must be a type, a tuple of types, or a union",
     "output_type": "error",
     "traceback": [
      "\u001b[1;31m---------------------------------------------------------------------------\u001b[0m",
      "\u001b[1;31mTypeError\u001b[0m                                 Traceback (most recent call last)",
      "Cell \u001b[1;32mIn[13], line 22\u001b[0m\n\u001b[0;32m     20\u001b[0m             count\u001b[38;5;241m+\u001b[39m\u001b[38;5;241m=\u001b[39m\u001b[38;5;241m1\u001b[39m\n\u001b[0;32m     21\u001b[0m     \u001b[38;5;28;01mreturn\u001b[39;00m count\n\u001b[1;32m---> 22\u001b[0m result\u001b[38;5;241m=\u001b[39mcountkeyval(std_info)  \n\u001b[0;32m     23\u001b[0m \u001b[38;5;28mprint\u001b[39m(\u001b[38;5;124mf\u001b[39m\u001b[38;5;124m\"\u001b[39m\u001b[38;5;124mTotal number of key-value pairs: \u001b[39m\u001b[38;5;132;01m{\u001b[39;00mresult\u001b[38;5;132;01m}\u001b[39;00m\u001b[38;5;124m\"\u001b[39m)\n",
      "Cell \u001b[1;32mIn[13], line 17\u001b[0m, in \u001b[0;36mcountkeyval\u001b[1;34m(d)\u001b[0m\n\u001b[0;32m     15\u001b[0m count\u001b[38;5;241m=\u001b[39m\u001b[38;5;241m0\u001b[39m\n\u001b[0;32m     16\u001b[0m \u001b[38;5;28;01mfor\u001b[39;00m key,value \u001b[38;5;129;01min\u001b[39;00m d\u001b[38;5;241m.\u001b[39mitems():\n\u001b[1;32m---> 17\u001b[0m     \u001b[38;5;28;01mif\u001b[39;00m \u001b[38;5;28misinstance\u001b[39m(value,\u001b[38;5;28mdict\u001b[39m):\n\u001b[0;32m     18\u001b[0m         count\u001b[38;5;241m+\u001b[39m\u001b[38;5;241m=\u001b[39mcountkeyval(value)\n\u001b[0;32m     19\u001b[0m     \u001b[38;5;28;01melse\u001b[39;00m:\n",
      "\u001b[1;31mTypeError\u001b[0m: isinstance() arg 2 must be a type, a tuple of types, or a union"
     ]
    }
   ],
   "source": [
    "#less understand\n",
    "std_info={\n",
    "    \"std1\":{\n",
    "        \"name\":\"sakib\",\n",
    "        \"age\":24,\n",
    "        \"adress\":\"Tangail\"\n",
    "    },\n",
    "     \"std2\":{\n",
    "        \"name\":\"rakib\",\n",
    "        \"age\":28,\n",
    "        \"adress\":\"Tangail\"\n",
    "    } \n",
    "}\n",
    "\n",
    "def countkeyval(d):\n",
    "    count=0\n",
    "    for key,value in d.items():\n",
    "        if isinstance(value,dict):\n",
    "            count+=countkeyval(value)\n",
    "        else:\n",
    "            count+=1\n",
    "    return count\n",
    "result=countkeyval(std_info)  \n",
    "print(f\"Total number of key-value pairs: {result}\")"
   ]
  },
  {
   "cell_type": "markdown",
   "id": "e8ab5a96",
   "metadata": {},
   "source": [
    "89. Nested Dictionary Update: Given a nested dictionary of employee details, write a Python program to update an employee’s salary based on their employee ID."
   ]
  },
  {
   "cell_type": "code",
   "execution_count": 18,
   "id": "faafb195",
   "metadata": {},
   "outputs": [
    {
     "name": "stdout",
     "output_type": "stream",
     "text": [
      "{'id1': {'name': 'rakib', 'salary': 200001}, 'id2': {'name': 'sakib', 'salary': 20000}}\n",
      "{'id1': {'name': 'rakib', 'salary': 30000}, 'id2': {'name': 'sakib', 'salary': 20000}}\n"
     ]
    }
   ],
   "source": [
    "employee={\n",
    "    \"id1\":{\n",
    "         \"name\":\"rakib\",\n",
    "        \n",
    "        \"salary\":200001\n",
    "    },\n",
    "    \"id2\":{\n",
    "        \"name\":\"sakib\",\n",
    "\n",
    "        \"salary\":20000\n",
    "    }\n",
    "}\n",
    "print(employee)\n",
    "employee[\"id1\"][\"salary\"]=30000\n",
    "print(employee)"
   ]
  },
  {
   "cell_type": "markdown",
   "id": "245ebfdc",
   "metadata": {},
   "source": [
    "90. Nested Dictionary Sorting: Given a nested dictionary containing product details (product name, price, and quantity), write a Python program to sort the products based on their prices in ascending order."
   ]
  },
  {
   "cell_type": "code",
   "execution_count": 23,
   "id": "c87cca3a",
   "metadata": {},
   "outputs": [
    {
     "name": "stdout",
     "output_type": "stream",
     "text": [
      "[('02', {'p_name': 'biscuit', 'price': 2, 'quantity': 26}), ('01', {'p_name': 'fruit', 'price': 25, 'quantity': 20})]\n"
     ]
    }
   ],
   "source": [
    "p_details={\n",
    "    \n",
    "    \"01\":{\n",
    "        \"p_name\":\"fruit\",\n",
    "        \"price\":25,\n",
    "        \"quantity\":20\n",
    "    },\n",
    "     \"02\":{\n",
    "        \"p_name\":\"biscuit\",\n",
    "        \"price\":2,\n",
    "        \"quantity\":26\n",
    "    }\n",
    "    \n",
    "}\n",
    "\n",
    "myval=(sorted(p_details.items(),key=lambda item: item[1][\"price\"]))\n",
    "print(myval)"
   ]
  },
  {
   "cell_type": "markdown",
   "id": "c6d0a122",
   "metadata": {},
   "source": [
    "91. Nested Dictionary Key Search: Write a Python program that takes a key as input and searches for it in a nested dictionary. If found, print the corresponding value, otherwise, print “Key Not Found.”"
   ]
  },
  {
   "cell_type": "code",
   "execution_count": 24,
   "id": "44d95abe",
   "metadata": {},
   "outputs": [
    {
     "name": "stdout",
     "output_type": "stream",
     "text": [
      "Enter the key to search for: sk\n"
     ]
    },
    {
     "ename": "TypeError",
     "evalue": "isinstance() arg 2 must be a type, a tuple of types, or a union",
     "output_type": "error",
     "traceback": [
      "\u001b[1;31m---------------------------------------------------------------------------\u001b[0m",
      "\u001b[1;31mTypeError\u001b[0m                                 Traceback (most recent call last)",
      "Cell \u001b[1;32mIn[24], line 33\u001b[0m\n\u001b[0;32m     30\u001b[0m key_to_search \u001b[38;5;241m=\u001b[39m \u001b[38;5;28minput\u001b[39m(\u001b[38;5;124m\"\u001b[39m\u001b[38;5;124mEnter the key to search for: \u001b[39m\u001b[38;5;124m\"\u001b[39m)\n\u001b[0;32m     32\u001b[0m \u001b[38;5;66;03m# Search for the key in the nested dictionary\u001b[39;00m\n\u001b[1;32m---> 33\u001b[0m value \u001b[38;5;241m=\u001b[39m search_nested_dict(nested_dict, key_to_search)\n\u001b[0;32m     35\u001b[0m \u001b[38;5;66;03m# Print the result\u001b[39;00m\n\u001b[0;32m     36\u001b[0m \u001b[38;5;28;01mif\u001b[39;00m value \u001b[38;5;129;01mis\u001b[39;00m \u001b[38;5;129;01mnot\u001b[39;00m \u001b[38;5;28;01mNone\u001b[39;00m:\n",
      "Cell \u001b[1;32mIn[24], line 23\u001b[0m, in \u001b[0;36msearch_nested_dict\u001b[1;34m(d, key)\u001b[0m\n\u001b[0;32m     21\u001b[0m \u001b[38;5;28;01mif\u001b[39;00m k \u001b[38;5;241m==\u001b[39m key:\n\u001b[0;32m     22\u001b[0m     \u001b[38;5;28;01mreturn\u001b[39;00m v\n\u001b[1;32m---> 23\u001b[0m \u001b[38;5;28;01melif\u001b[39;00m \u001b[38;5;28misinstance\u001b[39m(v, \u001b[38;5;28mdict\u001b[39m):\n\u001b[0;32m     24\u001b[0m     result \u001b[38;5;241m=\u001b[39m search_nested_dict(v, key)\n\u001b[0;32m     25\u001b[0m     \u001b[38;5;28;01mif\u001b[39;00m result \u001b[38;5;129;01mis\u001b[39;00m \u001b[38;5;129;01mnot\u001b[39;00m \u001b[38;5;28;01mNone\u001b[39;00m:\n",
      "\u001b[1;31mTypeError\u001b[0m: isinstance() arg 2 must be a type, a tuple of types, or a union"
     ]
    }
   ],
   "source": [
    "#cant find bug\n",
    "# Sample nested dictionary\n",
    "nested_dict = {\n",
    "    \"fruit\": {\n",
    "        \"apple\": \"A sweet red fruit\",\n",
    "        \"banana\": \"A long yellow fruit\",\n",
    "        \"cherry\": \"A small red fruit\",\n",
    "    },\n",
    "    \"vegetable\": {\n",
    "        \"carrot\": \"An orange root vegetable\",\n",
    "        \"broccoli\": \"A green flowering vegetable\",\n",
    "    },\n",
    "    \"dairy\": {\n",
    "        \"milk\": \"A white liquid produced by mammals\",\n",
    "        \"cheese\": \"A solid food made from milk\",\n",
    "    }\n",
    "}\n",
    "\n",
    "# Function to search for a key in a nested dictionary\n",
    "def search_nested_dict(d, key):\n",
    "    for k, v in d.items():\n",
    "        if k == key:\n",
    "            return v\n",
    "        elif isinstance(v, dict):\n",
    "            result = search_nested_dict(v, key)\n",
    "            if result is not None:\n",
    "                return result\n",
    "    return None\n",
    "\n",
    "# Taking key input from the user\n",
    "key_to_search = input(\"Enter the key to search for: \")\n",
    "\n",
    "# Search for the key in the nested dictionary\n",
    "value = search_nested_dict(nested_dict, key_to_search)\n",
    "\n",
    "# Print the result\n",
    "if value is not None:\n",
    "    print(f\"Key found: {key_to_search} -> {value}\")\n",
    "else:\n",
    "    print(\"Key Not Found\")\n"
   ]
  },
  {
   "cell_type": "markdown",
   "id": "07ffd0d0",
   "metadata": {},
   "source": [
    "# Break & Continue: "
   ]
  },
  {
   "cell_type": "markdown",
   "id": "18885609",
   "metadata": {},
   "source": [
    "92. Prime Number Checker: Write a Python program that takes a number as input and determines if it is a prime number or not. Use a `for` loop to check for factors. If a factor is found, `break` out of the loop."
   ]
  },
  {
   "cell_type": "code",
   "execution_count": 28,
   "id": "e8b8b883",
   "metadata": {},
   "outputs": [
    {
     "name": "stdout",
     "output_type": "stream",
     "text": [
      "Enter a number : 11\n",
      "Number is prime\n"
     ]
    }
   ],
   "source": [
    "n=int(input(\"Enter a number : \"))\n",
    "for i in range(2,(n//2)+1):\n",
    "    if n%i==0 :\n",
    "        print(\"Number is not prime \")\n",
    "        break\n",
    "else:\n",
    "        print(\"Number is prime\")"
   ]
  },
  {
   "cell_type": "markdown",
   "id": "e353bb10",
   "metadata": {},
   "source": [
    "93. Even Number Printer: Write a Python program to print all even numbers from 1 to 20. Use a `for` loop and `continue` to skip odd numbers."
   ]
  },
  {
   "cell_type": "code",
   "execution_count": 30,
   "id": "dfcffa14",
   "metadata": {},
   "outputs": [
    {
     "name": "stdout",
     "output_type": "stream",
     "text": [
      "2\n",
      "4\n",
      "6\n",
      "8\n",
      "10\n",
      "12\n",
      "14\n",
      "16\n",
      "18\n",
      "20\n"
     ]
    }
   ],
   "source": [
    "for i in range(1,21):\n",
    "    if(i%2==1):\n",
    "        continue\n",
    "    else:\n",
    "        print(i)"
   ]
  },
  {
   "cell_type": "markdown",
   "id": "37b6e90c",
   "metadata": {},
   "source": [
    "94. Password Validator: Write a Python program that takes a password as input and checks if it meets the following criteria: at least 8 characters long, contains both uppercase and lowercase letters, and has at least one digit. If the password is valid, print “Password accepted.” If not, use `continue` to prompt the user to enter a valid password."
   ]
  },
  {
   "cell_type": "code",
   "execution_count": null,
   "id": "96085455",
   "metadata": {},
   "outputs": [],
   "source": [
    "import re\n",
    "\n",
    "while True:\n",
    "    # Take password input from the user\n",
    "    password = input(\"Enter a password: \")\n",
    "    \n",
    "    # Check if the password is at least 8 characters long\n",
    "    if len(password) < 8:\n",
    "        print(\"Password must be at least 8 characters long.\")\n",
    "        continue\n",
    "    \n",
    "    # Check if the password contains both uppercase and lowercase letters\n",
    "    if not re.search(\"[a-z]\", password) or not re.search(\"[A-Z]\", password):\n",
    "        print(\"Password must contain both uppercase and lowercase letters.\")\n",
    "        continue\n",
    "    \n",
    "    # Check if the password contains at least one digit\n",
    "    if not re.search(\"[0-9]\", password):\n",
    "        print(\"Password must contain at least one digit.\")\n",
    "        continue\n",
    "    \n",
    "    # If all criteria are met\n",
    "    print(\"Password accepted.\")\n",
    "    break\n"
   ]
  },
  {
   "cell_type": "markdown",
   "id": "b7008a92",
   "metadata": {},
   "source": [
    "95. Divisible by 3 or 5: Write a Python program to print all numbers from 1 to 50 that are divisible by either 3 or 5. Use a `for` loop and `continue` to skip numbers that are not divisible by either 3 or 5."
   ]
  },
  {
   "cell_type": "code",
   "execution_count": null,
   "id": "9bfd24a2",
   "metadata": {},
   "outputs": [],
   "source": [
    "for i in rage(1,51):\n",
    "    if i%3!=0 and i%5!=0:\n",
    "        continue\n",
    "    else:\n",
    "        print(i)"
   ]
  },
  {
   "cell_type": "markdown",
   "id": "9593af9a",
   "metadata": {},
   "source": [
    "96. Positive Number Sum: Write a Python program that takes positive numbers as input until a negative number is entered. Then, calculate and print the sum of all positive numbers entered. Use a `while` loop and `break` to exit the loop when a negative number is encountered."
   ]
  },
  {
   "cell_type": "code",
   "execution_count": null,
   "id": "f92f48c2",
   "metadata": {},
   "outputs": [],
   "source": [
    "sum=0\n",
    "while true:\n",
    "    num=int(input(\"Enter a number : \"))\n",
    "    if num < 0 :\n",
    "        break\n",
    "    sum+=num\n",
    "\n",
    "print(sum)"
   ]
  },
  {
   "cell_type": "markdown",
   "id": "7c28dfa0",
   "metadata": {},
   "source": [
    "97. Word Palindrome Checker: Write a Python program that takes a word as input and checks if it is a palindrome (reads the same forwards and backward). Use `continue` to skip checking the word if its length is less than 3 characters."
   ]
  },
  {
   "cell_type": "code",
   "execution_count": null,
   "id": "e1404082",
   "metadata": {},
   "outputs": [],
   "source": [
    "while True:\n",
    "    s=int(\"Enter String : \")\n",
    "    if len(s)<3:\n",
    "        continue\n",
    "    rev=s[::-1]\n",
    "    if s==rev:\n",
    "        print(\"string is palindrome\")\n",
    "    else:\n",
    "        print(\"String is not palindrome\")"
   ]
  },
  {
   "cell_type": "markdown",
   "id": "789a74ab",
   "metadata": {},
   "source": [
    "98. Odd Number Finder: Write a Python program to find the first odd number from a list of integers. Use a `for` loop and `break` to stop the loop when the first odd number is found."
   ]
  },
  {
   "cell_type": "code",
   "execution_count": 3,
   "id": "c99d3a87",
   "metadata": {},
   "outputs": [
    {
     "name": "stdout",
     "output_type": "stream",
     "text": [
      "first odd number is  3\n"
     ]
    }
   ],
   "source": [
    "li=[2,4,3,4,5]\n",
    "for i in li:\n",
    "    if i%2==1:\n",
    "        print(\"first odd number is \",i)\n",
    "        break"
   ]
  },
  {
   "cell_type": "markdown",
   "id": "4b3328b0",
   "metadata": {},
   "source": [
    "99. Number Guessing Game: Write a Python program that generates a random number between 1 and 100 and lets the user guess the number. Use a `while` loop, `break` when the correct number is guessed, and `continue` to keep prompting the user until they guess correctly."
   ]
  },
  {
   "cell_type": "code",
   "execution_count": null,
   "id": "4690673a",
   "metadata": {},
   "outputs": [
    {
     "name": "stdout",
     "output_type": "stream",
     "text": [
      "Enter your guess number 23\n",
      "Computer number : 29\n",
      "Your guess number is too low\n",
      "Enter your guess number 23\n",
      "Computer number : 74\n",
      "Your guess number is too low\n",
      "Enter your guess number 90\n",
      "Computer number : 42\n",
      "Your guess number is too high\n",
      "Enter your guess number 45\n",
      "Computer number : 4\n",
      "Your guess number is too high\n",
      "Enter your guess number 50\n",
      "Computer number : 84\n",
      "Your guess number is too low\n",
      "Enter your guess number 12\n",
      "Computer number : 18\n",
      "Your guess number is too low\n",
      "Enter your guess number 30\n",
      "Computer number : 94\n",
      "Your guess number is too low\n",
      "Enter your guess number 104\n",
      "Computer number : 77\n",
      "Your guess number is too high\n",
      "Enter your guess number 104\n",
      "Computer number : 94\n",
      "Your guess number is too high\n",
      "Enter your guess number 35\n",
      "Computer number : 82\n",
      "Your guess number is too low\n"
     ]
    }
   ],
   "source": [
    "import random\n",
    "while True :\n",
    "    cnumber=random.randrange(1,101)\n",
    "    userInput=int(input(\"Enter your guess number \"))\n",
    "    if userInput>cnumber:\n",
    "        print(\"Computer number :\",cnumber)\n",
    "        print(\"Your guess number is too high\")\n",
    "        continue\n",
    "    if userInput<cnumber:\n",
    "            print(\"Computer number :\",cnumber)\n",
    "            print(\"Your guess number is too low\")\n",
    "            continue\n",
    "    if userInput==cnumber:\n",
    "        print(\"Computer number :\",cnumber)\n",
    "        print(\"Your number is guessed\")\n",
    "        break"
   ]
  },
  {
   "cell_type": "markdown",
   "id": "d2cb8d69",
   "metadata": {},
   "source": [
    "100. Vowel Counter: Write a Python program that takes a string as input and counts the number of vowels (a, e, i, o, u) in it. Use a `for` loop and `continue` to skip counting non-vowel characters."
   ]
  },
  {
   "cell_type": "code",
   "execution_count": 1,
   "id": "f4b7b14e",
   "metadata": {},
   "outputs": [
    {
     "name": "stdout",
     "output_type": "stream",
     "text": [
      "enter string :sakib\n",
      "2\n"
     ]
    }
   ],
   "source": [
    "vowel=\"aeiouAEIOU\"\n",
    "s=input(\"enter string :\")\n",
    "count=0\n",
    "for i in s:\n",
    "    if i not in vowel:\n",
    "        continue\n",
    "    count+=1\n",
    "print(count)"
   ]
  },
  {
   "cell_type": "markdown",
   "id": "99362a19",
   "metadata": {},
   "source": [
    "101. Unique Characters: Write a Python program that takes a string as input and checks if it contains all unique characters (no character repeats). Use a `for` loop and `break` when a character repeats."
   ]
  },
  {
   "cell_type": "code",
   "execution_count": 9,
   "id": "16df7ccb",
   "metadata": {},
   "outputs": [
    {
     "name": "stdout",
     "output_type": "stream",
     "text": [
      "enter a string : sakib\n",
      "unique character\n"
     ]
    }
   ],
   "source": [
    "s=input(\"enter a string : \")\n",
    "c=0\n",
    "for char in s:\n",
    "    if s.count(char)>1:\n",
    "        print(\"not unique\")\n",
    "        c=1\n",
    "        break\n",
    "    \n",
    "if c==0:\n",
    "    print(\"unique character\")"
   ]
  },
  {
   "cell_type": "markdown",
   "id": "2608bb70",
   "metadata": {},
   "source": [
    "# Functions Problems:"
   ]
  },
  {
   "cell_type": "markdown",
   "id": "0a7b012e",
   "metadata": {},
   "source": [
    "102. Factorial Calculator: Write a Python function called `factorial` that takes an integer as input and returns its factorial. Test the function with different values."
   ]
  },
  {
   "cell_type": "code",
   "execution_count": 10,
   "id": "a12ae712",
   "metadata": {},
   "outputs": [
    {
     "name": "stdout",
     "output_type": "stream",
     "text": [
      "Enter Digit : 5\n",
      "factorial is  120\n"
     ]
    }
   ],
   "source": [
    "def checkfact(n):\n",
    "    fact=1\n",
    "    for i in range(2,n+1):\n",
    "        fact=fact*i\n",
    "    return fact\n",
    "num=int(input(\"Enter Digit : \"))\n",
    "result=checkfact(num)\n",
    "print(\"factorial is \",result)\n",
    "        \n",
    "        "
   ]
  },
  {
   "cell_type": "markdown",
   "id": "1bea3b63",
   "metadata": {},
   "source": [
    "103. Palindrome Checker: Write a Python function called `is_palindrome` that takes a string as input and returns `True` if it is a palindrome and `False` otherwise. Test the function with different words."
   ]
  },
  {
   "cell_type": "code",
   "execution_count": 11,
   "id": "5bb87d3c",
   "metadata": {},
   "outputs": [
    {
     "name": "stdout",
     "output_type": "stream",
     "text": [
      "Enter String : madam\n",
      "True\n"
     ]
    }
   ],
   "source": [
    "def palicheck(string):\n",
    "    revstr=string[::-1]\n",
    "    if string==revstr:\n",
    "        return True\n",
    "    else:\n",
    "        return False\n",
    "s=input(\"Enter String : \")\n",
    "res=palicheck(s)\n",
    "print(res)"
   ]
  },
  {
   "cell_type": "markdown",
   "id": "d195e423",
   "metadata": {},
   "source": [
    "104. Even or Odd Checker: Write a Python function called `even_or_odd` that takes an integer as input and returns “Even” if the number is even and “Odd” if the number is odd. Test the function with different numbers."
   ]
  },
  {
   "cell_type": "code",
   "execution_count": 12,
   "id": "0ca0ad46",
   "metadata": {},
   "outputs": [
    {
     "name": "stdout",
     "output_type": "stream",
     "text": [
      "enter a number : 4\n",
      "number is even\n"
     ]
    }
   ],
   "source": [
    "def even_or_odd(n):\n",
    "    if(n%2==0):\n",
    "        return \"number is even\"\n",
    "    else:\n",
    "        return \"number is odd\"\n",
    "num=int(input(\"enter a number : \"))\n",
    "result=even_or_odd(num)\n",
    "print(result)"
   ]
  },
  {
   "cell_type": "markdown",
   "id": "457288bb",
   "metadata": {},
   "source": [
    "105. List Sum Calculator: Write a Python function called `list_sum` that takes a list of integers as input and returns the sum of all elements in the list. Test the function with different lists."
   ]
  },
  {
   "cell_type": "code",
   "execution_count": 16,
   "id": "2d25f879",
   "metadata": {},
   "outputs": [
    {
     "name": "stdout",
     "output_type": "stream",
     "text": [
      "enter size of list : 3\n",
      "enter values of list : 1\n",
      "enter values of list : 2\n",
      "enter values of list : 3\n",
      "sum of list :  6\n"
     ]
    }
   ],
   "source": [
    "def liSum(li):\n",
    "    sum=0\n",
    "    for i in li:\n",
    "        sum=sum+i\n",
    "    return sum\n",
    "size=int(input(\"enter size of list : \"))\n",
    "li1=[]\n",
    "for i in range(size):\n",
    "    val=int(input(\"enter values of list : \"))\n",
    "    li1.append(val)\n",
    "res=liSum(li1)\n",
    "print(\"sum of list : \",res)"
   ]
  },
  {
   "cell_type": "markdown",
   "id": "53875c26",
   "metadata": {},
   "source": [
    "106. Greatest Common Divisor (GCD) Calculator: Write a Python function called `gcd` that takes two integers as input and returns their greatest common divisor. Test the function with different pairs of numbers."
   ]
  },
  {
   "cell_type": "code",
   "execution_count": 19,
   "id": "ab46fe8a",
   "metadata": {},
   "outputs": [
    {
     "name": "stdout",
     "output_type": "stream",
     "text": [
      "Enter 1st num: 15\n",
      "Enter 1st num: 30\n",
      "15\n"
     ]
    }
   ],
   "source": [
    "def gcdCheck(num1,num2):\n",
    "    if num2>num1:\n",
    "        mn=num1\n",
    "    else:\n",
    "        mn=num2\n",
    "    for i in range(1,mn+1):\n",
    "        if num1%i==0 and num2%i==0:\n",
    "            hfc=i\n",
    "    return hfc\n",
    "\n",
    "n1=int(input(\"Enter 1st num: \"))\n",
    "n2=int(input(\"Enter 1st num: \"))\n",
    "res=gcdCheck(n1,n2)\n",
    "print(res)"
   ]
  },
  {
   "cell_type": "markdown",
   "id": "1474dbf3",
   "metadata": {},
   "source": [
    "107. Leap Year Checker: Write a Python function called `is_leap_year` that takes a year as input and returns `True` if it is a leap year and `False` otherwise. Test the function with different years."
   ]
  },
  {
   "cell_type": "code",
   "execution_count": 20,
   "id": "05544ff8",
   "metadata": {},
   "outputs": [
    {
     "name": "stdout",
     "output_type": "stream",
     "text": [
      "Enter a Year : 2024\n",
      "True\n"
     ]
    }
   ],
   "source": [
    "def is_leap_year(yr):\n",
    "    if yr%400==0 and yr%100==0:\n",
    "        return True\n",
    "    elif yr%4==0 and yr%100 !=0:\n",
    "        return True\n",
    "    else:\n",
    "        return False\n",
    "year=int(input(\"Enter a Year : \"))\n",
    "res=is_leap_year(year)\n",
    "print(res)"
   ]
  },
  {
   "cell_type": "markdown",
   "id": "887af24d",
   "metadata": {},
   "source": [
    "# Nested Functions Problems:"
   ]
  },
  {
   "cell_type": "markdown",
   "id": "f04aecaa",
   "metadata": {},
   "source": [
    "108. Math Operations: Write a Python function called `math_operations` that takes three numbers and a string representing an operation (‘add’, ‘subtract’, ‘multiply’, or ‘divide’). The function should return the result of the specified operation on the three numbers. Implement the math operations as nested functions."
   ]
  },
  {
   "cell_type": "code",
   "execution_count": 21,
   "id": "961d6fc6",
   "metadata": {},
   "outputs": [
    {
     "name": "stdout",
     "output_type": "stream",
     "text": [
      "42\n",
      "12\n",
      "510\n",
      "2.2666666666666666\n"
     ]
    }
   ],
   "source": [
    "def math_operations(a,b,c,operation):\n",
    "    def add(a,b,c):\n",
    "        print(a+b+c)\n",
    "    def subtract(a,b,c):\n",
    "        print(a-b-c)\n",
    "    def multiply(a,b,c):\n",
    "        print(a*b*c)\n",
    "    def divide(a,b,c):\n",
    "        print(a/b/c)\n",
    "    if operation==\"add\":\n",
    "        add(a,b,c)\n",
    "    elif operation==\"subtract\":\n",
    "        subtract(a,b,c)\n",
    "    elif operation==\"multiply\":\n",
    "        multiply(a,b,c)\n",
    "    elif operation==\"divide\":\n",
    "        divide(a,b,c)\n",
    "    else:\n",
    "        print(\"error\")\n",
    "\n",
    "math_operations(34,5,3,\"add\")\n",
    "math_operations(20,5,3,\"subtract\")\n",
    "math_operations(34,5,3,\"multiply\")\n",
    "math_operations(34,5,3,\"divide\")"
   ]
  },
  {
   "cell_type": "markdown",
   "id": "b76620ba",
   "metadata": {},
   "source": [
    "109. Greeting Generator: Write a Python function called `greeting_generator` that takes a name as input and returns a greeting message using nested functions. The greeting message should be customizable (e.g., “Hello, {name}! How are you today?”)."
   ]
  },
  {
   "cell_type": "code",
   "execution_count": 22,
   "id": "18956893",
   "metadata": {},
   "outputs": [
    {
     "name": "stdout",
     "output_type": "stream",
     "text": [
      "Hello sakib ! How are you today?\n"
     ]
    }
   ],
   "source": [
    "def greeting_generator(name):\n",
    "    def get_name():\n",
    "        return name\n",
    "    print(\"Hello\",name,\"! How are you today?\")\n",
    "greeting_generator(\"sakib\")"
   ]
  },
  {
   "cell_type": "markdown",
   "id": "a19c637e",
   "metadata": {},
   "source": [
    "110. Temperature Converter: Write a Python function called `temperature_converter` that takes a temperature value and a string representing the scale (‘C’ for Celsius or ‘F’ for Fahrenheit) as input. The function should convert the temperature from one scale to the other using nested functions and return the converted value.\n",
    "\n",
    " "
   ]
  },
  {
   "cell_type": "code",
   "execution_count": 23,
   "id": "88d0cbd2",
   "metadata": {},
   "outputs": [
    {
     "name": "stdout",
     "output_type": "stream",
     "text": [
      "from fahrenheit to cel :  19.444444444444443\n",
      "from celsius to fah : 132.8\n"
     ]
    }
   ],
   "source": [
    "def temperature_converter(x,y):\n",
    "    def tocel():\n",
    "        return (x-32)*5/9\n",
    "    def tof():\n",
    "        return (x*9/5)+32\n",
    "    if y==\"c\":\n",
    "        print(\"from fahrenheit to cel : \",tocel())\n",
    "    elif y==\"f\":\n",
    "        print(\"from celsius to fah :\",tof())\n",
    "temperature_converter(67,\"c\")\n",
    "temperature_converter(56,\"f\")"
   ]
  },
  {
   "cell_type": "markdown",
   "id": "d6f978ff",
   "metadata": {},
   "source": [
    "# Recursion: "
   ]
  },
  {
   "cell_type": "markdown",
   "id": "dced4144",
   "metadata": {},
   "source": [
    "111. Factorial Calculation: Write a recursive Python function called `factorial` that takes a non-negative integer as input and returns its factorial."
   ]
  },
  {
   "cell_type": "code",
   "execution_count": 24,
   "id": "6f3c7a26",
   "metadata": {},
   "outputs": [
    {
     "name": "stdout",
     "output_type": "stream",
     "text": [
      "Enter a number : 5\n",
      "120\n"
     ]
    }
   ],
   "source": [
    "def fact(n):\n",
    "    if n==1:\n",
    "        return 1\n",
    "    else:\n",
    "        return n*fact(n-1)\n",
    "n=int(input(\"Enter a number : \"))\n",
    "res=fact(n)\n",
    "print(res)"
   ]
  },
  {
   "cell_type": "markdown",
   "id": "d01def5d",
   "metadata": {},
   "source": [
    "112. Fibonacci Series: Write a recursive Python function called `Fibonacci` that takes an integer N as input and returns the Nth number in the Fibonacci series. The Fibonacci series is defined as follows: F(0) = 0, F(1) = 1, and F(n) = F(n-1) + F(n-2) for n > 1."
   ]
  },
  {
   "cell_type": "code",
   "execution_count": 25,
   "id": "d96bccce",
   "metadata": {},
   "outputs": [
    {
     "name": "stdout",
     "output_type": "stream",
     "text": [
      "0\n",
      "1\n",
      "1\n",
      "2\n",
      "3\n",
      "5\n",
      "8\n",
      "13\n",
      "21\n",
      "34\n"
     ]
    }
   ],
   "source": [
    "def Fibonacci(i):\n",
    "    if i==0:\n",
    "        return 0\n",
    "    elif i==1:\n",
    "        return 1\n",
    "    else:\n",
    "        return Fibonacci(i-2) + Fibonacci(i-1)\n",
    "for x in range(10):\n",
    "    print(Fibonacci(x))"
   ]
  },
  {
   "cell_type": "markdown",
   "id": "1952ee58",
   "metadata": {},
   "source": [
    "113. The sum of Digits: Write a recursive Python function called `sum_of_digits` that takes an integer as input and returns the sum of its digits."
   ]
  },
  {
   "cell_type": "code",
   "execution_count": 30,
   "id": "34b8cffe",
   "metadata": {},
   "outputs": [
    {
     "ename": "RecursionError",
     "evalue": "maximum recursion depth exceeded while calling a Python object",
     "output_type": "error",
     "traceback": [
      "\u001b[1;31m---------------------------------------------------------------------------\u001b[0m",
      "\u001b[1;31mRecursionError\u001b[0m                            Traceback (most recent call last)",
      "Cell \u001b[1;32mIn[30], line 6\u001b[0m\n\u001b[0;32m      4\u001b[0m     \u001b[38;5;28;01melse\u001b[39;00m:\n\u001b[0;32m      5\u001b[0m         \u001b[38;5;28;01mreturn\u001b[39;00m (n\u001b[38;5;241m%\u001b[39m\u001b[38;5;241m10\u001b[39m\u001b[38;5;241m+\u001b[39msum_of_digits(\u001b[38;5;28mint\u001b[39m(n\u001b[38;5;241m/\u001b[39m\u001b[38;5;241m10\u001b[39m)))\n\u001b[1;32m----> 6\u001b[0m \u001b[38;5;28mprint\u001b[39m(sum_of_digits(\u001b[38;5;241m123\u001b[39m))\n",
      "Cell \u001b[1;32mIn[30], line 5\u001b[0m, in \u001b[0;36msum_of_digits\u001b[1;34m(n)\u001b[0m\n\u001b[0;32m      3\u001b[0m     \u001b[38;5;28;01mreturn\u001b[39;00m \u001b[38;5;241m0\u001b[39m\n\u001b[0;32m      4\u001b[0m \u001b[38;5;28;01melse\u001b[39;00m:\n\u001b[1;32m----> 5\u001b[0m     \u001b[38;5;28;01mreturn\u001b[39;00m (n\u001b[38;5;241m%\u001b[39m\u001b[38;5;241m10\u001b[39m\u001b[38;5;241m+\u001b[39msum_of_digits(\u001b[38;5;28mint\u001b[39m(n\u001b[38;5;241m/\u001b[39m\u001b[38;5;241m10\u001b[39m)))\n",
      "Cell \u001b[1;32mIn[30], line 5\u001b[0m, in \u001b[0;36msum_of_digits\u001b[1;34m(n)\u001b[0m\n\u001b[0;32m      3\u001b[0m     \u001b[38;5;28;01mreturn\u001b[39;00m \u001b[38;5;241m0\u001b[39m\n\u001b[0;32m      4\u001b[0m \u001b[38;5;28;01melse\u001b[39;00m:\n\u001b[1;32m----> 5\u001b[0m     \u001b[38;5;28;01mreturn\u001b[39;00m (n\u001b[38;5;241m%\u001b[39m\u001b[38;5;241m10\u001b[39m\u001b[38;5;241m+\u001b[39msum_of_digits(\u001b[38;5;28mint\u001b[39m(n\u001b[38;5;241m/\u001b[39m\u001b[38;5;241m10\u001b[39m)))\n",
      "    \u001b[1;31m[... skipping similar frames: sum_of_digits at line 5 (2971 times)]\u001b[0m\n",
      "Cell \u001b[1;32mIn[30], line 5\u001b[0m, in \u001b[0;36msum_of_digits\u001b[1;34m(n)\u001b[0m\n\u001b[0;32m      3\u001b[0m     \u001b[38;5;28;01mreturn\u001b[39;00m \u001b[38;5;241m0\u001b[39m\n\u001b[0;32m      4\u001b[0m \u001b[38;5;28;01melse\u001b[39;00m:\n\u001b[1;32m----> 5\u001b[0m     \u001b[38;5;28;01mreturn\u001b[39;00m (n\u001b[38;5;241m%\u001b[39m\u001b[38;5;241m10\u001b[39m\u001b[38;5;241m+\u001b[39msum_of_digits(\u001b[38;5;28mint\u001b[39m(n\u001b[38;5;241m/\u001b[39m\u001b[38;5;241m10\u001b[39m)))\n",
      "\u001b[1;31mRecursionError\u001b[0m: maximum recursion depth exceeded while calling a Python object"
     ]
    }
   ],
   "source": [
    "def sum_of_digits(n):\n",
    "    if n<0:\n",
    "        return 0\n",
    "    else:\n",
    "        return (n%10+sum_of_digits(int(n/10)))\n",
    "print(sum_of_digits(123))"
   ]
  },
  {
   "cell_type": "markdown",
   "id": "2104dc38",
   "metadata": {},
   "source": [
    "114. Binary Search: Write a recursive Python function called `binary_search` that takes a sorted list and a target value as input and returns the index of the target value in the list using binary search. If the target value is not in the list, return -1."
   ]
  },
  {
   "cell_type": "code",
   "execution_count": 34,
   "id": "9a962193",
   "metadata": {},
   "outputs": [
    {
     "name": "stdout",
     "output_type": "stream",
     "text": [
      "1\n"
     ]
    }
   ],
   "source": [
    "lst=[3,6,7,8,9,10]\n",
    "def binary_search(lst,val,low,high):\n",
    "    if low>high:\n",
    "        return -1\n",
    "    else:\n",
    "        mid=(low+high)//2\n",
    "        if val> lst[mid]:\n",
    "            return binary_search(lst,val,mid+1,high)\n",
    "        elif val< lst[mid]:\n",
    "            return binary_search(lst,val,low,mid-1)\n",
    "        else:\n",
    "            return mid\n",
    "i=binary_search(lst,6,0,len(lst)-1)\n",
    "print(i)"
   ]
  },
  {
   "cell_type": "markdown",
   "id": "2f86f241",
   "metadata": {},
   "source": [
    "115. Power Calculation: Write a recursive Python function called `power` that takes two positive integers, base and exponent, as input and returns the value of base raised to the exponent."
   ]
  },
  {
   "cell_type": "code",
   "execution_count": 35,
   "id": "0a1a5a41",
   "metadata": {},
   "outputs": [
    {
     "name": "stdout",
     "output_type": "stream",
     "text": [
      "8\n"
     ]
    }
   ],
   "source": [
    "def power(base,exponent):\n",
    "    if exponent==0:\n",
    "        return 1\n",
    "    else:\n",
    "        return base*power(base,exponent-1)\n",
    "res=power(2,3)\n",
    "print(res)"
   ]
  },
  {
   "cell_type": "code",
   "execution_count": null,
   "id": "2b99c065",
   "metadata": {},
   "outputs": [],
   "source": []
  }
 ],
 "metadata": {
  "kernelspec": {
   "display_name": "Python 3 (ipykernel)",
   "language": "python",
   "name": "python3"
  },
  "language_info": {
   "codemirror_mode": {
    "name": "ipython",
    "version": 3
   },
   "file_extension": ".py",
   "mimetype": "text/x-python",
   "name": "python",
   "nbconvert_exporter": "python",
   "pygments_lexer": "ipython3",
   "version": "3.11.3"
  }
 },
 "nbformat": 4,
 "nbformat_minor": 5
}
